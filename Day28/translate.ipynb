{
 "cells": [
  {
   "cell_type": "code",
   "execution_count": 28,
   "metadata": {},
   "outputs": [],
   "source": [
    "import translate as tl\n",
    "import googletrans as gl"
   ]
  },
  {
   "cell_type": "code",
   "execution_count": 29,
   "metadata": {},
   "outputs": [
    {
     "name": "stdout",
     "output_type": "stream",
     "text": [
      "Đừng khóc vì nó đã kết thúc , hãy mỉm cười vì nó đã xảy ra .\n"
     ]
    }
   ],
   "source": [
    "text = ' Don ’t cry because it ’s over , smile because it happened .'\n",
    "trans = tl.Translator(to_lang=\"vi\")\n",
    "trans = trans.translate(text)\n",
    "\n",
    "print(trans)"
   ]
  },
  {
   "cell_type": "code",
   "execution_count": 33,
   "metadata": {},
   "outputs": [
    {
     "name": "stdout",
     "output_type": "stream",
     "text": [
      "The Suno AI tool quickly gets users' attention when it is possible to create a song with just a few commands. The latest version of V3 Alpha was just introduced at the end of February, there is a free version with 10 songs per day\n"
     ]
    }
   ],
   "source": [
    "#Bai tap\n",
    "text = 'Công cụ Suno AI nhanh chóng nhận được sự chú ý từ người dùng khi có thể tạo bài hát chỉ với vài câu lệnh. Phiên bản mới nhất V3 Alpha mới được giới thiệu cuối tháng 2, có bản miễn phí với 10 bài hát mỗi ngày'\n",
    "trans_eng = tl.Translator(to_lang=\"en\",from_lang='vi')\n",
    "trans_eng = trans_eng.translate(text)\n",
    "print(trans_eng)\n"
   ]
  },
  {
   "cell_type": "code",
   "execution_count": 34,
   "metadata": {},
   "outputs": [
    {
     "name": "stdout",
     "output_type": "stream",
     "text": [
      "Suno AIツールは、いくつかのコマンドで曲を作成できるときに、ユーザーの注意を素早く引きます。V 3 Alphaの最新バージョンは2月末に発売されたばかりで、1日10曲の無料版があります\n"
     ]
    }
   ],
   "source": [
    "trans_japan = tl.Translator(to_lang=\"ja\",from_lang='vi')\n",
    "trans_japan = trans_japan.translate(text)\n",
    "print(trans_japan)"
   ]
  }
 ],
 "metadata": {
  "kernelspec": {
   "display_name": "Python 3",
   "language": "python",
   "name": "python3"
  },
  "language_info": {
   "codemirror_mode": {
    "name": "ipython",
    "version": 3
   },
   "file_extension": ".py",
   "mimetype": "text/x-python",
   "name": "python",
   "nbconvert_exporter": "python",
   "pygments_lexer": "ipython3",
   "version": "3.11.9"
  }
 },
 "nbformat": 4,
 "nbformat_minor": 2
}
