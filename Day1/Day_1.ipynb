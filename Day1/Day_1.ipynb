{
  "cells": [
    {
      "cell_type": "code",
      "execution_count": 1,
      "metadata": {
        "id": "XMUIGIeIYgWM"
      },
      "outputs": [],
      "source": [
        "# Cách 1\n",
        "def TinhCanChi1(nam):\n",
        "  index_can = nam%10\n",
        "  if index_can == 0: can = \"Canh\"\n",
        "  elif index_can == 1: can = \"Tân\"\n",
        "  elif index_can == 2: can = \"Nhâm\"\n",
        "  elif index_can == 3: can = \"Quý\"\n",
        "  elif index_can == 4: can = \"Giáp\"\n",
        "  elif index_can == 5: can = \"Ất\"\n",
        "  elif index_can == 6: can = \"Bính\"\n",
        "  elif index_can == 7: can = \"Đinh\"\n",
        "  elif index_can == 8: can = \"Mậu\"\n",
        "  elif index_can == 9: can = \"Kỷ\"\n",
        "\n",
        "  index_chi = nam%12\n",
        "  if index_chi == 0: chi = \"Thân\"\n",
        "  elif index_chi == 1: chi = \"Dậu\"\n",
        "  elif index_chi == 2: chi = \"Tuất\"\n",
        "  elif index_chi == 3: chi = \"Hợi\"\n",
        "  elif index_chi == 4: chi = \"Tý\"\n",
        "  elif index_chi == 5: chi = \"Sửu\"\n",
        "  elif index_chi == 6: chi = \"Dần\"\n",
        "  elif index_chi == 7: chi = \"Mẹo\"\n",
        "  elif index_chi == 8: chi = \"Thìn\"\n",
        "  elif index_chi == 9: chi = \"Tỵ\"\n",
        "  elif index_chi == 10: chi = \"Ngọ\"\n",
        "  elif index_chi == 11: chi = \"Mùi\"\n",
        "  return can+chi"
      ]
    },
    {
      "cell_type": "code",
      "execution_count": 2,
      "metadata": {
        "colab": {
          "base_uri": "https://localhost:8080/"
        },
        "id": "bZm1FReEaQsG",
        "outputId": "ee2d2dc5-b890-49a7-e57b-d65c69b34d1e"
      },
      "outputs": [
        {
          "name": "stdout",
          "output_type": "stream",
          "text": [
            "GiápThìn\n"
          ]
        }
      ],
      "source": [
        "print(TinhCanChi1(2024))"
      ]
    },
    {
      "cell_type": "code",
      "execution_count": 3,
      "metadata": {
        "id": "ynYwAtNBgl4y"
      },
      "outputs": [],
      "source": [
        "#Cách 2\n",
        "def TinhCanChi2(nam):\n",
        "  Can = [\"Canh\",\"Tân\",\"Nhâm\",\"Quý\",\"Giáp\",\"Ất\",\"Bính\",\"Đinh\",\"Mậu\",\"Kỷ\"]\n",
        "  Chi = [\"Thân\",\"Dậu\",\"Tuất\",\"Hợi\",\"Tý\",\"Sửu\",\"Dần\",\"Mẹo\",\"Thìn\",\"Tỵ\",\"Ngọ\",\"Mùi\"]\n",
        "\n",
        "  Canchi = Can[nam%10]+Chi[nam%12]\n",
        "  return Canchi"
      ]
    },
    {
      "cell_type": "code",
      "execution_count": 6,
      "metadata": {
        "colab": {
          "base_uri": "https://localhost:8080/"
        },
        "id": "oc4GgeyehhH5",
        "outputId": "099f4045-b7bd-4664-fe78-da4610ad9b20"
      },
      "outputs": [
        {
          "name": "stdout",
          "output_type": "stream",
          "text": [
            "GiápDần\n"
          ]
        }
      ],
      "source": [
        "print(TinhCanChi2(1974))"
      ]
    }
  ],
  "metadata": {
    "colab": {
      "provenance": []
    },
    "kernelspec": {
      "display_name": "Python 3",
      "name": "python3"
    },
    "language_info": {
      "codemirror_mode": {
        "name": "ipython",
        "version": 3
      },
      "file_extension": ".py",
      "mimetype": "text/x-python",
      "name": "python",
      "nbconvert_exporter": "python",
      "pygments_lexer": "ipython3",
      "version": "3.11.8"
    }
  },
  "nbformat": 4,
  "nbformat_minor": 0
}
