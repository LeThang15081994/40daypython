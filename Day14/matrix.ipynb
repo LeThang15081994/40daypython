{
 "cells": [
  {
   "cell_type": "code",
   "execution_count": 2,
   "metadata": {},
   "outputs": [],
   "source": [
    "import numpy as np\n",
    "import torch\n",
    "import os\n",
    "import random\n",
    "import tensorflow as tf"
   ]
  },
  {
   "cell_type": "markdown",
   "metadata": {},
   "source": [
    "#câu1"
   ]
  },
  {
   "cell_type": "code",
   "execution_count": 4,
   "metadata": {},
   "outputs": [
    {
     "name": "stdout",
     "output_type": "stream",
     "text": [
      "Matran số 1: [[ -2 -10 -10  -6]\n",
      " [ -1  -9  -7   0]\n",
      " [ -8 -10  -5   7]]\n",
      "Matran số 2: [[ 5  0  4  5]\n",
      " [ 1 -3  8 -1]\n",
      " [-4  0 -9 -5]]\n",
      "Matran nghịch đảo của matran số 2: [[ 5  1 -4]\n",
      " [ 0 -3  0]\n",
      " [ 4  8 -9]\n",
      " [ 5 -1 -5]]\n",
      "Phép nhân hai ma trận: [[-80 -46 128]\n",
      " [-33 -30  67]\n",
      " [-25 -25  42]]\n"
     ]
    }
   ],
   "source": [
    "#khởi tạo hai mảng ngẫu nhiên bằng numpy\n",
    "seed = 2024\n",
    "np.random.seed(seed)\n",
    "array_np_1 = np.random.randint(-10,10,size=(3,4))\n",
    "array_np_2 = np.random.randint(-10,10,size=(3,4))\n",
    "array_np_2_trp = np.transpose(array_np_2)\n",
    "array_multi = array_np_1.dot(array_np_2_trp)\n",
    "print(f\"Matran số 1: {array_np_1}\")\n",
    "print(f\"Matran số 2: {array_np_2}\")\n",
    "print(f\"Matran nghịch đảo của matran số 2: {array_np_2_trp}\")\n",
    "print(f\"Phép nhân hai ma trận: {array_multi}\")\n"
   ]
  },
  {
   "cell_type": "code",
   "execution_count": 12,
   "metadata": {},
   "outputs": [
    {
     "name": "stdout",
     "output_type": "stream",
     "text": [
      "Matran số 1: tensor([[  2,   0,  -6, -10],\n",
      "        [ -7, -10,   0,   1],\n",
      "        [  3,   9,   7,  -6]])\n",
      "Matran số 2: tensor([[  1,   8,   0,  -2],\n",
      "        [ -9, -10,  -9,   0],\n",
      "        [ -3,  -7,  -4,   8]])\n",
      "Matran nghịch đảo của matran số 2: tensor([[  1,  -9,  -3],\n",
      "        [  8, -10,  -7],\n",
      "        [  0,  -9,  -4],\n",
      "        [ -2,   0,   8]])\n",
      "Phép nhân hai ma trận: tensor([[  22,   36,  -62],\n",
      "        [ -89,  163,   99],\n",
      "        [  87, -180, -148]])\n"
     ]
    }
   ],
   "source": [
    "#khởi tạo hai mảng ngẫu nhiên bằng torch\n",
    "seed = 2024\n",
    "torch.manual_seed(seed)\n",
    "torch_arrray_1 = torch.randint(-10,10,size=(3,4))\n",
    "torch_arrray_2 = torch.randint(-10,10,size=(3,4))\n",
    "torch_arrray_2_trp = torch.t(torch_arrray_2)\n",
    "torch_multi = torch.mm(torch_arrray_1,torch_arrray_2_trp)\n",
    "print(f\"Matran số 1: {torch_arrray_1}\")\n",
    "print(f\"Matran số 2: {torch_arrray_2}\")\n",
    "print(f\"Matran nghịch đảo của matran số 2: {torch_arrray_2_trp}\")\n",
    "print(f\"Phép nhân hai ma trận: {torch_multi}\")"
   ]
  },
  {
   "cell_type": "code",
   "execution_count": 22,
   "metadata": {},
   "outputs": [
    {
     "name": "stdout",
     "output_type": "stream",
     "text": [
      "Matran số 1: [[-6 -2  0 -2]\n",
      " [ 4  4 -9  3]\n",
      " [ 7  1  2 -5]]\n",
      "Matran số 2: [[-3 -7  9  3]\n",
      " [ 2 -5 -3 -5]\n",
      " [ 4 -3 -3  5]]\n",
      "Matran nghịch đảo của matran số 2: [[-3  2  4]\n",
      " [-7 -5 -3]\n",
      " [ 9 -3 -3]\n",
      " [ 3 -5  5]]\n",
      "Phép nhân hai ma trận: [[  26    8  -28]\n",
      " [-112    0   46]\n",
      " [ -25   28   -6]]\n"
     ]
    }
   ],
   "source": [
    "#khởi tạo hai mảng ngẫu nhiên bằng tensorflow\n",
    "seed = 2024\n",
    "tf.random.set_seed(seed)\n",
    "\n",
    "tf_array_1 = tf.random.uniform((3,4),-10,10,tf.int32)\n",
    "tf_array_2 = tf.random.uniform((3,4),-10,10,tf.int32)\n",
    "tf_array_2_trp = tf.transpose(tf_array_2)\n",
    "tf_multi = tf.matmul(tf_array_1,tf_array_2_trp)\n",
    "\n",
    "print(f\"Matran số 1: {tf_array_1}\")\n",
    "print(f\"Matran số 2: {tf_array_2}\")\n",
    "print(f\"Matran nghịch đảo của matran số 2: {tf_array_2_trp}\")\n",
    "print(f\"Phép nhân hai ma trận: {tf_multi}\")"
   ]
  },
  {
   "cell_type": "markdown",
   "metadata": {},
   "source": [
    "Câu 2"
   ]
  },
  {
   "cell_type": "code",
   "execution_count": 26,
   "metadata": {},
   "outputs": [],
   "source": [
    "#khởi tạo hai mảng ngẫu nhiên bằng numpy,pytorch,tensorflow\n",
    "array_np = np.random.randint(-10,10,size=(3,3))\n",
    "torch_array = torch.randint(-10,10,size=(3,3))\n",
    "tf_array = tf.random.uniform((3,3),-10,10,tf.int32)"
   ]
  },
  {
   "cell_type": "code",
   "execution_count": 32,
   "metadata": {},
   "outputs": [
    {
     "name": "stdout",
     "output_type": "stream",
     "text": [
      "-5 \n",
      " tensor(-2) \n",
      " tf.Tensor(-8, shape=(), dtype=int32)\n"
     ]
    }
   ],
   "source": [
    "#tính tổng toàn bộ của các ma trận\n",
    "sum1 = np.sum(array_np)\n",
    "sum2 = torch.sum(torch_array)\n",
    "sum3 = tf.reduce_sum(tf_array)\n",
    "print(sum1,\"\\n\", sum2,\"\\n\", sum3)"
   ]
  },
  {
   "cell_type": "code",
   "execution_count": 31,
   "metadata": {},
   "outputs": [
    {
     "name": "stdout",
     "output_type": "stream",
     "text": [
      "[ 5 -1 -9] \n",
      " tensor([ 4,  0, -6]) \n",
      " tf.Tensor([-15   8  -1], shape=(3,), dtype=int32)\n"
     ]
    }
   ],
   "source": [
    "#tính tổng theo chiều dọc\n",
    "sum1v = np.sum(array_np,axis=0)\n",
    "sum2v = torch.sum(torch_array,dim=0)\n",
    "sum3v = tf.reduce_sum(tf_array,axis=0)\n",
    "print(sum1v,\"\\n\", sum2v, \"\\n\",sum3v)"
   ]
  },
  {
   "cell_type": "code",
   "execution_count": 33,
   "metadata": {},
   "outputs": [
    {
     "name": "stdout",
     "output_type": "stream",
     "text": [
      "[-17   0  12] \n",
      " tensor([-5,  3,  0]) \n",
      " tf.Tensor([ 6 -9 -5], shape=(3,), dtype=int32)\n"
     ]
    }
   ],
   "source": [
    "#tính tổng theo chiều ngang\n",
    "sum1h = np.sum(array_np,axis=1)\n",
    "sum2h = torch.sum(torch_array,dim=1)\n",
    "sum3h = tf.reduce_sum(tf_array,axis=1)\n",
    "print(sum1h,\"\\n\", sum2h, \"\\n\",sum3h)"
   ]
  }
 ],
 "metadata": {
  "kernelspec": {
   "display_name": "Python 3",
   "language": "python",
   "name": "python3"
  },
  "language_info": {
   "codemirror_mode": {
    "name": "ipython",
    "version": 3
   },
   "file_extension": ".py",
   "mimetype": "text/x-python",
   "name": "python",
   "nbconvert_exporter": "python",
   "pygments_lexer": "ipython3",
   "version": "3.11.9"
  }
 },
 "nbformat": 4,
 "nbformat_minor": 2
}
