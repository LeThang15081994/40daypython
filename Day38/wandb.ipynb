{
 "cells": [
  {
   "cell_type": "code",
   "execution_count": 4,
   "metadata": {},
   "outputs": [
    {
     "name": "stderr",
     "output_type": "stream",
     "text": [
      "\u001b[34m\u001b[1mwandb\u001b[0m: Currently logged in as: \u001b[33mlesythang1581994\u001b[0m (\u001b[33mlesythang\u001b[0m). Use \u001b[1m`wandb login --relogin`\u001b[0m to force relogin\n",
      "\u001b[34m\u001b[1mwandb\u001b[0m: \u001b[33mWARNING\u001b[0m If you're specifying your api key in code, ensure this code is not shared publicly.\n",
      "\u001b[34m\u001b[1mwandb\u001b[0m: \u001b[33mWARNING\u001b[0m Consider setting the WANDB_API_KEY environment variable, or running `wandb login` from the command line.\n",
      "\u001b[34m\u001b[1mwandb\u001b[0m: Appending key for api.wandb.ai to your netrc file: C:\\Users\\ADMIN\\.netrc\n"
     ]
    },
    {
     "data": {
      "text/plain": [
       "True"
      ]
     },
     "execution_count": 4,
     "metadata": {},
     "output_type": "execute_result"
    }
   ],
   "source": [
    "import wandb\n",
    "\n",
    "wandb_api = '7dcd5187be3f8ff229709dd8513e7a13624e5405'\n",
    "wandb.login(key=wandb_api)"
   ]
  },
  {
   "cell_type": "code",
   "execution_count": 5,
   "metadata": {},
   "outputs": [],
   "source": [
    "import pandas as pd"
   ]
  },
  {
   "cell_type": "code",
   "execution_count": 17,
   "metadata": {},
   "outputs": [
    {
     "data": {
      "text/html": [
       "<div>\n",
       "<style scoped>\n",
       "    .dataframe tbody tr th:only-of-type {\n",
       "        vertical-align: middle;\n",
       "    }\n",
       "\n",
       "    .dataframe tbody tr th {\n",
       "        vertical-align: top;\n",
       "    }\n",
       "\n",
       "    .dataframe thead th {\n",
       "        text-align: right;\n",
       "    }\n",
       "</style>\n",
       "<table border=\"1\" class=\"dataframe\">\n",
       "  <thead>\n",
       "    <tr style=\"text-align: right;\">\n",
       "      <th></th>\n",
       "      <th>areas</th>\n",
       "      <th>prices</th>\n",
       "    </tr>\n",
       "  </thead>\n",
       "  <tbody>\n",
       "    <tr>\n",
       "      <th>0</th>\n",
       "      <td>6.7</td>\n",
       "      <td>9.1</td>\n",
       "    </tr>\n",
       "    <tr>\n",
       "      <th>1</th>\n",
       "      <td>4.6</td>\n",
       "      <td>5.9</td>\n",
       "    </tr>\n",
       "    <tr>\n",
       "      <th>2</th>\n",
       "      <td>3.5</td>\n",
       "      <td>4.6</td>\n",
       "    </tr>\n",
       "    <tr>\n",
       "      <th>3</th>\n",
       "      <td>5.5</td>\n",
       "      <td>6.7</td>\n",
       "    </tr>\n",
       "  </tbody>\n",
       "</table>\n",
       "</div>"
      ],
      "text/plain": [
       "   areas  prices\n",
       "0    6.7     9.1\n",
       "1    4.6     5.9\n",
       "2    3.5     4.6\n",
       "3    5.5     6.7"
      ]
     },
     "execution_count": 17,
     "metadata": {},
     "output_type": "execute_result"
    }
   ],
   "source": [
    "#Khởi tạo dataset\n",
    "\n",
    "areas = [6.7 , 4.6 , 3.5 , 5.5]\n",
    "prices = [9.1 , 5.9 , 4.6 , 6.7]\n",
    "\n",
    "dataset = pd. DataFrame ({\n",
    "                            'areas': areas ,\n",
    "                            'prices': prices\n",
    "                        })\n",
    "dataset.head()"
   ]
  },
  {
   "cell_type": "code",
   "execution_count": 7,
   "metadata": {},
   "outputs": [],
   "source": [
    "def predict(x,w,b):\n",
    "    return x*w+b"
   ]
  },
  {
   "cell_type": "code",
   "execution_count": 8,
   "metadata": {},
   "outputs": [],
   "source": [
    "#Tính đạo hàm\n",
    "def gradient (y_hat , y, x):\n",
    "    dw = 2*x*( y_hat -y)\n",
    "    db = 2*( y_hat -y)\n",
    "\n",
    "    return (dw , db)"
   ]
  },
  {
   "cell_type": "code",
   "execution_count": 9,
   "metadata": {},
   "outputs": [],
   "source": [
    "#Update giá trị trọng số\n",
    "\n",
    "def update_weight (w, b, lr , dw , db):\n",
    "    w_new = w - lr*dw\n",
    "    b_new = b - lr*db\n",
    "\n",
    "    return (w_new , b_new )"
   ]
  },
  {
   "cell_type": "code",
   "execution_count": 37,
   "metadata": {},
   "outputs": [
    {
     "data": {
      "text/html": [
       "Tracking run with wandb version 0.16.6"
      ],
      "text/plain": [
       "<IPython.core.display.HTML object>"
      ]
     },
     "metadata": {},
     "output_type": "display_data"
    },
    {
     "data": {
      "text/html": [
       "Run data is saved locally in <code>d:\\4_Course\\1_2023Aio\\8_40_Day_Python_Practice\\Day38\\wandb\\run-20240504_155915-lv293vpv</code>"
      ],
      "text/plain": [
       "<IPython.core.display.HTML object>"
      ]
     },
     "metadata": {},
     "output_type": "display_data"
    },
    {
     "data": {
      "text/html": [
       "Syncing run <strong><a href='https://wandb.ai/lesythang/demo%20-%20linear%20-%20regression%20/runs/lv293vpv' target=\"_blank\">imperial-fleet-11</a></strong> to <a href='https://wandb.ai/lesythang/demo%20-%20linear%20-%20regression%20' target=\"_blank\">Weights & Biases</a> (<a href='https://wandb.me/run' target=\"_blank\">docs</a>)<br/>"
      ],
      "text/plain": [
       "<IPython.core.display.HTML object>"
      ]
     },
     "metadata": {},
     "output_type": "display_data"
    },
    {
     "data": {
      "text/html": [
       " View project at <a href='https://wandb.ai/lesythang/demo%20-%20linear%20-%20regression%20' target=\"_blank\">https://wandb.ai/lesythang/demo%20-%20linear%20-%20regression%20</a>"
      ],
      "text/plain": [
       "<IPython.core.display.HTML object>"
      ]
     },
     "metadata": {},
     "output_type": "display_data"
    },
    {
     "data": {
      "text/html": [
       " View run at <a href='https://wandb.ai/lesythang/demo%20-%20linear%20-%20regression%20/runs/lv293vpv' target=\"_blank\">https://wandb.ai/lesythang/demo%20-%20linear%20-%20regression%20/runs/lv293vpv</a>"
      ],
      "text/plain": [
       "<IPython.core.display.HTML object>"
      ]
     },
     "metadata": {},
     "output_type": "display_data"
    },
    {
     "data": {
      "application/vnd.jupyter.widget-view+json": {
       "model_id": "1243ad093d1b47bcb2960b8c281af47a",
       "version_major": 2,
       "version_minor": 0
      },
      "text/plain": [
       "VBox(children=(Label(value='0.002 MB of 0.002 MB uploaded\\r'), FloatProgress(value=0.9546142208774584, max=1.0…"
      ]
     },
     "metadata": {},
     "output_type": "display_data"
    },
    {
     "data": {
      "text/html": [
       "<style>\n",
       "    table.wandb td:nth-child(1) { padding: 0 10px; text-align: left ; width: auto;} td:nth-child(2) {text-align: left ; width: 100%}\n",
       "    .wandb-row { display: flex; flex-direction: row; flex-wrap: wrap; justify-content: flex-start; width: 100% }\n",
       "    .wandb-col { display: flex; flex-direction: column; flex-basis: 100%; flex: 1; padding: 10px; }\n",
       "    </style>\n",
       "<div class=\"wandb-row\"><div class=\"wandb-col\"><h3>Run history:</h3><br/><table class=\"wandb\"><tr><td> loss </td><td>█▁▁▁▁▁▁▁▁▁▁▁▁▁▁▁▁▁▁▁▁▁▁▁▁▁▁▁▁▁▁▁▁▁▁▁▁▁▁▁</td></tr></table><br/></div><div class=\"wandb-col\"><h3>Run summary:</h3><br/><table class=\"wandb\"><tr><td> loss </td><td>0.13448</td></tr></table><br/></div></div>"
      ],
      "text/plain": [
       "<IPython.core.display.HTML object>"
      ]
     },
     "metadata": {},
     "output_type": "display_data"
    },
    {
     "data": {
      "text/html": [
       " View run <strong style=\"color:#cdcd00\">imperial-fleet-11</strong> at: <a href='https://wandb.ai/lesythang/demo%20-%20linear%20-%20regression%20/runs/lv293vpv' target=\"_blank\">https://wandb.ai/lesythang/demo%20-%20linear%20-%20regression%20/runs/lv293vpv</a><br/> View project at: <a href='https://wandb.ai/lesythang/demo%20-%20linear%20-%20regression%20' target=\"_blank\">https://wandb.ai/lesythang/demo%20-%20linear%20-%20regression%20</a><br/>Synced 4 W&B file(s), 1 media file(s), 1 artifact file(s) and 0 other file(s)"
      ],
      "text/plain": [
       "<IPython.core.display.HTML object>"
      ]
     },
     "metadata": {},
     "output_type": "display_data"
    },
    {
     "data": {
      "text/html": [
       "Find logs at: <code>.\\wandb\\run-20240504_155915-lv293vpv\\logs</code>"
      ],
      "text/plain": [
       "<IPython.core.display.HTML object>"
      ]
     },
     "metadata": {},
     "output_type": "display_data"
    }
   ],
   "source": [
    "# init weights\n",
    "b = 0.04\n",
    "w = -0.34\n",
    "lr = 0.01\n",
    "epochs = 10\n",
    "\n",
    "# init project wandb\n",
    "wandb . init (\n",
    "# Set the project where this run will be logged\n",
    "project =\"demo - linear - regression \",\n",
    "config ={\n",
    "\" learning_rate \": lr ,\n",
    "\" epochs \": epochs ,\n",
    "},)\n",
    "\n",
    "wandb .run .log ({\" Dataset \" : wandb . Table ( dataframe = dataset )})\n",
    "\n",
    "X_train = dataset ['areas']\n",
    "Y_train = dataset ['prices']\n",
    "\n",
    "N = len ( X_train )\n",
    "# parameter\n",
    "losses = [] # for debug\n",
    "\n",
    "for epoch in range ( epochs ):\n",
    "    # for an epoch\n",
    "    for i in range (N):\n",
    "        # get a sample\n",
    "        x = X_train [i]\n",
    "        y = Y_train [i]\n",
    "\n",
    "        # predict y_hat\n",
    "        y_hat = predict (x, w, b)\n",
    "\n",
    "        # compute loss\n",
    "        loss = (y_hat -y)*( y_hat -y) / 2.0\n",
    "\n",
    "        # tracking loss with WandB\n",
    "        wandb .log ({\" loss \": loss })\n",
    "\n",
    "        # compute gradient\n",
    "        (dw , db) = gradient (y_hat , y, x)\n",
    "\n",
    "        # update weights\n",
    "        (w, b) = update_weight (w, b, lr , dw , db)\n",
    "    losses.append(1/loss)\n",
    "    # Mark a run as finished , and finish uploading all data .\n",
    "wandb . finish ()"
   ]
  },
  {
   "cell_type": "code",
   "execution_count": 38,
   "metadata": {},
   "outputs": [
    {
     "data": {
      "image/png": "[encoded data removed]",
      "text/plain": [
       "<Figure size 640x480 with 1 Axes>"
      ]
     },
     "metadata": {},
     "output_type": "display_data"
    }
   ],
   "source": [
    "import matplotlib.pyplot as plt\n",
    "plt.plot(losses)\n",
    "plt.xlabel(\"Epoch\")\n",
    "plt.ylabel(\"Loss\")\n",
    "plt.show()\n",
    "     "
   ]
  }
 ],
 "metadata": {
  "kernelspec": {
   "display_name": "Python 3",
   "language": "python",
   "name": "python3"
  },
  "language_info": {
   "codemirror_mode": {
    "name": "ipython",
    "version": 3
   },
   "file_extension": ".py",
   "mimetype": "text/x-python",
   "name": "python",
   "nbconvert_exporter": "python",
   "pygments_lexer": "ipython3",
   "version": "3.11.9"
  }
 },
 "nbformat": 4,
 "nbformat_minor": 2
}
