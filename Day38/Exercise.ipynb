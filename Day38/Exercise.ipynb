{
 "cells": [
  {
   "cell_type": "code",
   "execution_count": 1,
   "metadata": {},
   "outputs": [
    {
     "name": "stderr",
     "output_type": "stream",
     "text": [
      "Failed to detect the name of this notebook, you can set it manually with the WANDB_NOTEBOOK_NAME environment variable to enable code saving.\n",
      "\u001b[34m\u001b[1mwandb\u001b[0m: Currently logged in as: \u001b[33mlesythang1581994\u001b[0m (\u001b[33mlesythang\u001b[0m). Use \u001b[1m`wandb login --relogin`\u001b[0m to force relogin\n",
      "\u001b[34m\u001b[1mwandb\u001b[0m: \u001b[33mWARNING\u001b[0m If you're specifying your api key in code, ensure this code is not shared publicly.\n",
      "\u001b[34m\u001b[1mwandb\u001b[0m: \u001b[33mWARNING\u001b[0m Consider setting the WANDB_API_KEY environment variable, or running `wandb login` from the command line.\n",
      "\u001b[34m\u001b[1mwandb\u001b[0m: Appending key for api.wandb.ai to your netrc file: C:\\Users\\ADMIN\\.netrc\n"
     ]
    },
    {
     "data": {
      "text/plain": [
       "True"
      ]
     },
     "execution_count": 1,
     "metadata": {},
     "output_type": "execute_result"
    }
   ],
   "source": [
    "import wandb\n",
    "\n",
    "wandb_api = '7dcd5187be3f8ff229709dd8513e7a13624e5405'\n",
    "wandb.login(key=wandb_api)"
   ]
  },
  {
   "cell_type": "code",
   "execution_count": 9,
   "metadata": {},
   "outputs": [],
   "source": [
    "import pandas as pd\n",
    "import matplotlib.pyplot as plt"
   ]
  },
  {
   "cell_type": "code",
   "execution_count": 29,
   "metadata": {},
   "outputs": [
    {
     "data": {
      "text/html": [
       "<div>\n",
       "<style scoped>\n",
       "    .dataframe tbody tr th:only-of-type {\n",
       "        vertical-align: middle;\n",
       "    }\n",
       "\n",
       "    .dataframe tbody tr th {\n",
       "        vertical-align: top;\n",
       "    }\n",
       "\n",
       "    .dataframe thead th {\n",
       "        text-align: right;\n",
       "    }\n",
       "</style>\n",
       "<table border=\"1\" class=\"dataframe\">\n",
       "  <thead>\n",
       "    <tr style=\"text-align: right;\">\n",
       "      <th></th>\n",
       "      <th>TV</th>\n",
       "      <th>Radio</th>\n",
       "      <th>Newspaper</th>\n",
       "      <th>Sales</th>\n",
       "    </tr>\n",
       "  </thead>\n",
       "  <tbody>\n",
       "    <tr>\n",
       "      <th>0</th>\n",
       "      <td>230.1</td>\n",
       "      <td>37.8</td>\n",
       "      <td>69.2</td>\n",
       "      <td>22.1</td>\n",
       "    </tr>\n",
       "    <tr>\n",
       "      <th>1</th>\n",
       "      <td>44.5</td>\n",
       "      <td>39.3</td>\n",
       "      <td>45.1</td>\n",
       "      <td>10.4</td>\n",
       "    </tr>\n",
       "    <tr>\n",
       "      <th>2</th>\n",
       "      <td>17.2</td>\n",
       "      <td>45.9</td>\n",
       "      <td>69.3</td>\n",
       "      <td>12.0</td>\n",
       "    </tr>\n",
       "    <tr>\n",
       "      <th>3</th>\n",
       "      <td>151.5</td>\n",
       "      <td>41.3</td>\n",
       "      <td>58.5</td>\n",
       "      <td>16.5</td>\n",
       "    </tr>\n",
       "    <tr>\n",
       "      <th>4</th>\n",
       "      <td>180.8</td>\n",
       "      <td>10.8</td>\n",
       "      <td>58.4</td>\n",
       "      <td>17.9</td>\n",
       "    </tr>\n",
       "  </tbody>\n",
       "</table>\n",
       "</div>"
      ],
      "text/plain": [
       "      TV  Radio  Newspaper  Sales\n",
       "0  230.1   37.8       69.2   22.1\n",
       "1   44.5   39.3       45.1   10.4\n",
       "2   17.2   45.9       69.3   12.0\n",
       "3  151.5   41.3       58.5   16.5\n",
       "4  180.8   10.8       58.4   17.9"
      ]
     },
     "execution_count": 29,
     "metadata": {},
     "output_type": "execute_result"
    }
   ],
   "source": [
    "#Bài tập\n",
    "\n",
    "#Khởi tạo dataset\n",
    "\n",
    "df = pd.read_csv('advertising.csv')\n",
    "df.head()"
   ]
  },
  {
   "cell_type": "code",
   "execution_count": 30,
   "metadata": {},
   "outputs": [
    {
     "name": "stdout",
     "output_type": "stream",
     "text": [
      "        TV  Radio  Newspaper  Sales\n",
      "0    230.1   37.8       69.2   22.1\n",
      "1     44.5   39.3       45.1   10.4\n",
      "2     17.2   45.9       69.3   12.0\n",
      "3    151.5   41.3       58.5   16.5\n",
      "4    180.8   10.8       58.4   17.9\n",
      "..     ...    ...        ...    ...\n",
      "195   38.2    3.7       13.8    7.6\n",
      "196   94.2    4.9        8.1   14.0\n",
      "197  177.0    9.3        6.4   14.8\n",
      "198  283.6   42.0       66.2   25.5\n",
      "199  232.1    8.6        8.7   18.4\n",
      "\n",
      "[200 rows x 4 columns]\n"
     ]
    }
   ],
   "source": [
    "print(df)"
   ]
  },
  {
   "cell_type": "code",
   "execution_count": 31,
   "metadata": {},
   "outputs": [],
   "source": [
    "def predict_bt(x1, x2, x3, w1, w2, w3, b):\n",
    "    return x1*w1 + x2*w2 + x3*w3 + b"
   ]
  },
  {
   "cell_type": "code",
   "execution_count": 32,
   "metadata": {},
   "outputs": [],
   "source": [
    "#Tính đạo hàm\n",
    "def gradient_bt (y_hat , y, x1, x2, x3):\n",
    "    dw1 = 2 * x1 * ( y_hat -y)\n",
    "    dw2 = 2 * x2 * ( y_hat -y)\n",
    "    dw3 = 2 * x3 * ( y_hat -y)\n",
    "    db = 2 * ( y_hat -y)\n",
    "\n",
    "    return (dw1, dw2, dw3 , db)"
   ]
  },
  {
   "cell_type": "code",
   "execution_count": 33,
   "metadata": {},
   "outputs": [],
   "source": [
    "#Update giá trị trọng số\n",
    "\n",
    "def update_weight_bt (w1, w2, w3, b, lr , dw1, dw2, dw3 , db):\n",
    "    w1_new = w1 - lr * dw1\n",
    "    w2_new = w2 - lr * dw2\n",
    "    w3_new = w3 - lr * dw3\n",
    "    b_new = b - lr * db\n",
    "\n",
    "    return (w1_new, w2_new, w3_new , b_new )"
   ]
  },
  {
   "cell_type": "code",
   "execution_count": 34,
   "metadata": {},
   "outputs": [],
   "source": [
    "# Khi tính đạo hàm con số rất lớn nên cần scale dữ liệu lại.\n",
    "# Normalized data\n",
    "def scaling(data1, data2, data3):\n",
    "    data = data1 + data2 + data3\n",
    "    max_value = max(data)\n",
    "    min_value = min(data)\n",
    "    mean_value = sum(data) / len(data)\n",
    "\n",
    "    data1 = [(x - mean_value) / (max_value - min_value) for x in data1]\n",
    "    data2 = [(x - mean_value) / (max_value - min_value) for x in data2]\n",
    "    data3 = [(x - mean_value) / (max_value - min_value) for x in data3]\n",
    "    return (data1, data2, data3)"
   ]
  },
  {
   "cell_type": "code",
   "execution_count": 41,
   "metadata": {},
   "outputs": [
    {
     "data": {
      "image/png": "[encoded data removed]",
      "text/plain": [
       "<Figure size 640x480 with 1 Axes>"
      ]
     },
     "metadata": {},
     "output_type": "display_data"
    }
   ],
   "source": [
    "# init weights\n",
    "b = 1\n",
    "w1,w2,w3 = 0,0,0\n",
    "lr = 0.01\n",
    "epochs = 1000\n",
    "\n",
    "(X1_train,X2_train,X3_train) = scaling(df['TV'],df['Radio'],df['Newspaper'])\n",
    "Y_train = df['Sales']\n",
    "\n",
    "N = len(X1_train)\n",
    "# parameter\n",
    "losses = [] # for debug\n",
    "\n",
    "\n",
    "for epoch in range ( epochs ):\n",
    "    # for an epoch\n",
    "    \n",
    "    for i in range (N):\n",
    "        # get a sample\n",
    "        x1 = X1_train[i]\n",
    "        x2 = X2_train[i]\n",
    "        x3 = X3_train[i]\n",
    "        y = Y_train [i]\n",
    "\n",
    "        y_hat = predict_bt (x1, x2, x3, w1, w2, w3, b)\n",
    "\n",
    "        # compute loss\n",
    "        loss = (y_hat -y)*( y_hat -y)\n",
    "        \n",
    "        (dw1, dw2, dw3 , db) = gradient_bt (y_hat , y, x1, x2, x3)\n",
    "\n",
    "        # update weights\n",
    "        (w1, w2, w3, b) = update_weight_bt (w1, w2, w3, b, lr , dw1, dw2, dw3, db)\n",
    "    losses.append(loss)\n",
    "\n",
    "plt.plot(losses)\n",
    "plt.xlabel(\"Epoch\")\n",
    "plt.ylabel(\"Loss\")\n",
    "plt.show()"
   ]
  },
  {
   "cell_type": "code",
   "execution_count": 47,
   "metadata": {},
   "outputs": [
    {
     "data": {
      "text/html": [
       "Tracking run with wandb version 0.16.6"
      ],
      "text/plain": [
       "<IPython.core.display.HTML object>"
      ]
     },
     "metadata": {},
     "output_type": "display_data"
    },
    {
     "data": {
      "text/html": [
       "Run data is saved locally in <code>d:\\4_Course\\1_2023Aio\\8_40_Day_Python_Practice\\Day38\\wandb\\run-20240504_234250-a912dz5m</code>"
      ],
      "text/plain": [
       "<IPython.core.display.HTML object>"
      ]
     },
     "metadata": {},
     "output_type": "display_data"
    },
    {
     "data": {
      "text/html": [
       "Syncing run <strong><a href='https://wandb.ai/lesythang/demo%20-%20linear%20-%20regression%20-%20Exercise/runs/a912dz5m' target=\"_blank\">light-nerf-herder-9</a></strong> to <a href='https://wandb.ai/lesythang/demo%20-%20linear%20-%20regression%20-%20Exercise' target=\"_blank\">Weights & Biases</a> (<a href='https://wandb.me/run' target=\"_blank\">docs</a>)<br/>"
      ],
      "text/plain": [
       "<IPython.core.display.HTML object>"
      ]
     },
     "metadata": {},
     "output_type": "display_data"
    },
    {
     "data": {
      "text/html": [
       " View project at <a href='https://wandb.ai/lesythang/demo%20-%20linear%20-%20regression%20-%20Exercise' target=\"_blank\">https://wandb.ai/lesythang/demo%20-%20linear%20-%20regression%20-%20Exercise</a>"
      ],
      "text/plain": [
       "<IPython.core.display.HTML object>"
      ]
     },
     "metadata": {},
     "output_type": "display_data"
    },
    {
     "data": {
      "text/html": [
       " View run at <a href='https://wandb.ai/lesythang/demo%20-%20linear%20-%20regression%20-%20Exercise/runs/a912dz5m' target=\"_blank\">https://wandb.ai/lesythang/demo%20-%20linear%20-%20regression%20-%20Exercise/runs/a912dz5m</a>"
      ],
      "text/plain": [
       "<IPython.core.display.HTML object>"
      ]
     },
     "metadata": {},
     "output_type": "display_data"
    },
    {
     "data": {
      "application/vnd.jupyter.widget-view+json": {
       "model_id": "e671b136e7c6498288325d503c3787a2",
       "version_major": 2,
       "version_minor": 0
      },
      "text/plain": [
       "VBox(children=(Label(value='0.012 MB of 0.012 MB uploaded\\r'), FloatProgress(value=1.0, max=1.0)))"
      ]
     },
     "metadata": {},
     "output_type": "display_data"
    },
    {
     "data": {
      "text/html": [
       "<style>\n",
       "    table.wandb td:nth-child(1) { padding: 0 10px; text-align: left ; width: auto;} td:nth-child(2) {text-align: left ; width: 100%}\n",
       "    .wandb-row { display: flex; flex-direction: row; flex-wrap: wrap; justify-content: flex-start; width: 100% }\n",
       "    .wandb-col { display: flex; flex-direction: column; flex-basis: 100%; flex: 1; padding: 10px; }\n",
       "    </style>\n",
       "<div class=\"wandb-row\"><div class=\"wandb-col\"><h3>Run history:</h3><br/><table class=\"wandb\"><tr><td> loss </td><td>█▃▂▅▃▁▂▁▁▄▁▂▁▂▂▄▂▃▁▅▁▁▁▁▁▄▁▃▁▅▁▁▃▁▁▃▁▃▁▅</td></tr></table><br/></div><div class=\"wandb-col\"><h3>Run summary:</h3><br/><table class=\"wandb\"><tr><td> loss </td><td>0.00518</td></tr></table><br/></div></div>"
      ],
      "text/plain": [
       "<IPython.core.display.HTML object>"
      ]
     },
     "metadata": {},
     "output_type": "display_data"
    },
    {
     "data": {
      "text/html": [
       " View run <strong style=\"color:#cdcd00\">light-nerf-herder-9</strong> at: <a href='https://wandb.ai/lesythang/demo%20-%20linear%20-%20regression%20-%20Exercise/runs/a912dz5m' target=\"_blank\">https://wandb.ai/lesythang/demo%20-%20linear%20-%20regression%20-%20Exercise/runs/a912dz5m</a><br/> View project at: <a href='https://wandb.ai/lesythang/demo%20-%20linear%20-%20regression%20-%20Exercise' target=\"_blank\">https://wandb.ai/lesythang/demo%20-%20linear%20-%20regression%20-%20Exercise</a><br/>Synced 4 W&B file(s), 1 media file(s), 1 artifact file(s) and 0 other file(s)"
      ],
      "text/plain": [
       "<IPython.core.display.HTML object>"
      ]
     },
     "metadata": {},
     "output_type": "display_data"
    },
    {
     "data": {
      "text/html": [
       "Find logs at: <code>.\\wandb\\run-20240504_234250-a912dz5m\\logs</code>"
      ],
      "text/plain": [
       "<IPython.core.display.HTML object>"
      ]
     },
     "metadata": {},
     "output_type": "display_data"
    },
    {
     "data": {
      "image/png": "[encoded data removed]",
      "text/plain": [
       "<Figure size 640x480 with 1 Axes>"
      ]
     },
     "metadata": {},
     "output_type": "display_data"
    }
   ],
   "source": [
    "# init weights\n",
    "b = 1\n",
    "w1,w2,w3 = 0,0,0\n",
    "lr = 0.01\n",
    "epochs = 1000\n",
    "\n",
    "# init project wandb\n",
    "wandb . init (\n",
    "# Set the project where this run will be logged\n",
    "project =\"demo - linear - regression - Exercise\",\n",
    "config ={\n",
    "\"learning_rate\": lr ,\n",
    "\"epochs\": epochs ,\n",
    "},)\n",
    "\n",
    "wandb.run.log ({\"Dataset\": wandb.Table(dataframe =df)})\n",
    "data1=df['TV']\n",
    "data2=df['Radio']\n",
    "data3=df['Newspaper']\n",
    "(X1_train,X2_train,X3_train) = scaling(data1,data2,data3)\n",
    "Y_train = df['Sales']\n",
    "\n",
    "\n",
    "N = len(X1_train)\n",
    "# parameter\n",
    "losses = [] # for debug\n",
    "\n",
    "\n",
    "for epoch in range ( epochs ):\n",
    "    # for an epoch\n",
    "    for i in range (N):\n",
    "        # get a sample\n",
    "        x1 = X1_train[i]\n",
    "        x2 = X2_train[i]\n",
    "        x3 = X3_train[i]\n",
    "        y = Y_train [i]\n",
    "\n",
    "        # predict y_hat\n",
    "        y_hat = predict_bt (x1, x2, x3, w1, w2, w3, b)\n",
    "\n",
    "        # compute loss\n",
    "        loss = (y_hat - y) * ( y_hat - y)\n",
    "\n",
    "        # tracking loss with WandB\n",
    "        wandb .log ({\" loss \": loss })\n",
    "\n",
    "        # compute gradient\n",
    "        (dw1, dw2, dw3 , db) = gradient_bt (y_hat , y, x1, x2, x3)\n",
    "\n",
    "        # update weights\n",
    "        (w1, w2, w3, b) = update_weight_bt (w1, w2, w3, b, lr , dw1, dw2, dw3, db)\n",
    "    losses.append(loss)\n",
    "    # Mark a run as finished , and finish uploading all data .\n",
    "wandb.finish ()\n",
    "plt.plot(losses)\n",
    "plt.xlabel(\"Epoch\")\n",
    "plt.ylabel(\"Loss\")\n",
    "plt.show()"
   ]
  }
 ],
 "metadata": {
  "kernelspec": {
   "display_name": "Python 3",
   "language": "python",
   "name": "python3"
  },
  "language_info": {
   "codemirror_mode": {
    "name": "ipython",
    "version": 3
   },
   "file_extension": ".py",
   "mimetype": "text/x-python",
   "name": "python",
   "nbconvert_exporter": "python",
   "pygments_lexer": "ipython3",
   "version": "3.11.9"
  }
 },
 "nbformat": 4,
 "nbformat_minor": 2
}
