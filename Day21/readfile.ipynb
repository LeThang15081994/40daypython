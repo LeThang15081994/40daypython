{
 "cells": [
  {
   "cell_type": "code",
   "execution_count": 79,
   "metadata": {},
   "outputs": [
    {
     "name": "stdout",
     "output_type": "stream",
     "text": [
      "He who conquers himself is the mightiest warrior Try not to become a man of success but rather become a man of value One man with courage makes a majority One secret of success in life is for a man to be ready for his opportunity when it comes The successful man will profit from his mistakes and try again in a different way A successful man is one who can lay a firm foundation with the bricks others have thrown at him Success usually comes to those who are too busy looking for it We cannot solve problems with the kind of thinking we employed when we came up with them Just one small positive thought in the morning can change your whole day You can get everything in life you want if you will just help enough other people get what they want\n"
     ]
    }
   ],
   "source": [
    "#Dọc file gán vào biến data\n",
    "with open(\"data.txt\",\"r\") as f:\n",
    "    data = f.read().replace('\\n',' ')\n",
    "print(data)"
   ]
  },
  {
   "cell_type": "code",
   "execution_count": 80,
   "metadata": {},
   "outputs": [
    {
     "name": "stdout",
     "output_type": "stream",
     "text": [
      "{'lay', 'secret', 'to', 'opportunity', 'thought', 'mightiest', 'day', 'solve', 'can', 'if', 'not', 'become', 'foundation', 'too', 'enough', 'those', 'who', 'but', 'bricks', 'rather', 'majority', 'him', 'cannot', 'morning', 'whole', 'want', 'employed', 'everything', 'busy', 'different', 'again', 'have', 'mistakes', 'your', 'in', 'conquers', 'at', 'with', 'change', 'way', 'try', 'problems', 'thinking', 'one', 'others', 'get', 'what', 'profit', 'kind', 'successful', 'are', 'of', 'warrior', 'from', 'he', 'value', 'just', 'when', 'comes', 'a', 'we', 'man', 'makes', 'help', 'you', 'life', 'for', 'positive', 'them', 'and', 'success', 'came', 'looking', 'it', 'ready', 'thrown', 'courage', 'the', 'usually', 'up', 'people', 'will', 'is', 'other', 'himself', 'his', 'they', 'small', 'be', 'firm'}\n"
     ]
    }
   ],
   "source": [
    "#Tạo dictionary trong đó có các chữ cái duy nhất.\n",
    "data = data.lower() # chuyển về chữ viết thường\n",
    "distinct_words = set(data.split(' '))\n",
    "print(distinct_words)"
   ]
  },
  {
   "cell_type": "code",
   "execution_count": 81,
   "metadata": {},
   "outputs": [
    {
     "name": "stdout",
     "output_type": "stream",
     "text": [
      "he\n"
     ]
    }
   ],
   "source": [
    "data = list(data.split(' '))\n",
    "print(data[0])"
   ]
  },
  {
   "cell_type": "code",
   "execution_count": 82,
   "metadata": {},
   "outputs": [],
   "source": [
    "# đếm các từ xuất hiện trong câu\n",
    "count_dic = {}\n",
    "for i in distinct_words:\n",
    "    count = 0\n",
    "    for idx in range(len(data)):\n",
    "        if i == data[idx]:\n",
    "            count += 1\n",
    "    count_dic[i]=count"
   ]
  },
  {
   "cell_type": "code",
   "execution_count": 83,
   "metadata": {},
   "outputs": [
    {
     "name": "stdout",
     "output_type": "stream",
     "text": [
      "1\n",
      "3\n",
      "{'lay': 1, 'secret': 1, 'to': 3, 'opportunity': 1, 'thought': 1, 'mightiest': 1, 'day': 1, 'solve': 1, 'can': 3, 'if': 1, 'not': 1, 'become': 2, 'foundation': 1, 'too': 1, 'enough': 1, 'those': 1, 'who': 3, 'but': 1, 'bricks': 1, 'rather': 1, 'majority': 1, 'him': 1, 'cannot': 1, 'morning': 1, 'whole': 1, 'want': 2, 'employed': 1, 'everything': 1, 'busy': 1, 'different': 1, 'again': 1, 'have': 1, 'mistakes': 1, 'your': 1, 'in': 4, 'conquers': 1, 'at': 1, 'with': 4, 'change': 1, 'way': 1, 'try': 2, 'problems': 1, 'thinking': 1, 'one': 4, 'others': 1, 'get': 2, 'what': 1, 'profit': 1, 'kind': 1, 'successful': 2, 'are': 1, 'of': 4, 'warrior': 1, 'from': 1, 'he': 1, 'value': 1, 'just': 2, 'when': 2, 'comes': 2, 'a': 7, 'we': 3, 'man': 6, 'makes': 1, 'help': 1, 'you': 3, 'life': 2, 'for': 3, 'positive': 1, 'them': 1, 'and': 1, 'success': 3, 'came': 1, 'looking': 1, 'it': 2, 'ready': 1, 'thrown': 1, 'courage': 1, 'the': 5, 'usually': 1, 'up': 1, 'people': 1, 'will': 2, 'is': 3, 'other': 1, 'himself': 1, 'his': 2, 'they': 1, 'small': 1, 'be': 1, 'firm': 1}\n"
     ]
    }
   ],
   "source": [
    "print(count_dic[\"thought\"])\n",
    "print(count_dic[\"you\"])\n",
    "print(count_dic)"
   ]
  },
  {
   "cell_type": "code",
   "execution_count": 85,
   "metadata": {},
   "outputs": [
    {
     "name": "stdout",
     "output_type": "stream",
     "text": [
      "Chữ cái a xuất hiện nhiều nhất với 7 lần\n",
      "Chữ cái None xuất hiện nhiều nhất với 1 lần\n"
     ]
    }
   ],
   "source": [
    "# tìm chữ cái có số lần xuất hiện nhiều nhất\n",
    "min = 1\n",
    "max = 1\n",
    "\n",
    "for key,val in count_dic.items():\n",
    "    if val > max:\n",
    "        max = val\n",
    "        item1 = key\n",
    "for key,val in count_dic.items():\n",
    "    if val < min:\n",
    "        min = val\n",
    "        item2 = key\n",
    "        print(key,val)\n",
    "print(f\"Chữ cái {item1} xuất hiện nhiều nhất với {max} lần\")\n",
    "print(f\"Chữ cái {item2} xuất hiện nhiều nhất với {min} lần\")"
   ]
  }
 ],
 "metadata": {
  "kernelspec": {
   "display_name": "Python 3",
   "language": "python",
   "name": "python3"
  },
  "language_info": {
   "codemirror_mode": {
    "name": "ipython",
    "version": 3
   },
   "file_extension": ".py",
   "mimetype": "text/x-python",
   "name": "python",
   "nbconvert_exporter": "python",
   "pygments_lexer": "ipython3",
   "version": "3.11.9"
  }
 },
 "nbformat": 4,
 "nbformat_minor": 2
}
