{
 "cells": [
  {
   "cell_type": "code",
   "execution_count": 4,
   "metadata": {},
   "outputs": [],
   "source": [
    "# khởi tạo hàm fx\n",
    "def funx(x,N):\n",
    "    return x**2 - N"
   ]
  },
  {
   "cell_type": "code",
   "execution_count": 5,
   "metadata": {},
   "outputs": [],
   "source": [
    "#Khởi tạo đạo hàm của fx\n",
    "def dev_funx(x):\n",
    "    return 2*x\n",
    "    "
   ]
  },
  {
   "cell_type": "code",
   "execution_count": 23,
   "metadata": {},
   "outputs": [],
   "source": [
    "#Khởi tạo hàm newton\n",
    "def newton(N):\n",
    "    x_0 = N\n",
    "    e = 0.001\n",
    "    while(1):\n",
    "        x_i = x_0 - (funx(x_0,N)/dev_funx(x_0))\n",
    "        if (abs(x_i - x_0)) < e:\n",
    "            break\n",
    "        x_0 = x_i\n",
    "    print(f\"Giá trị căn bậc hai của {N} là {x_0}\")"
   ]
  },
  {
   "cell_type": "code",
   "execution_count": 24,
   "metadata": {},
   "outputs": [
    {
     "name": "stdout",
     "output_type": "stream",
     "text": [
      "Giá trị căn bậc hai của 2 là 1.4142156862745099\n",
      "Giá trị căn bậc hai của 3 là 1.7321428571428572\n"
     ]
    }
   ],
   "source": [
    "newton(2)\n",
    "newton(3)\n"
   ]
  }
 ],
 "metadata": {
  "kernelspec": {
   "display_name": "Python 3",
   "language": "python",
   "name": "python3"
  },
  "language_info": {
   "codemirror_mode": {
    "name": "ipython",
    "version": 3
   },
   "file_extension": ".py",
   "mimetype": "text/x-python",
   "name": "python",
   "nbconvert_exporter": "python",
   "pygments_lexer": "ipython3",
   "version": "3.11.9"
  }
 },
 "nbformat": 4,
 "nbformat_minor": 2
}
