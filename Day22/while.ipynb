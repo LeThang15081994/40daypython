{
 "cells": [
  {
   "cell_type": "code",
   "execution_count": 13,
   "metadata": {},
   "outputs": [],
   "source": [
    "#khởi tạo hàm tìm số nguyên dương nhỏ nhất > 100 và chia hết cho một số:\n",
    "def find_number_1(a :int):\n",
    "    i = 100\n",
    "    while(1):\n",
    "        i += 1\n",
    "        if i >= 100 and i % a == 0:\n",
    "            break\n",
    "    return i\n"
   ]
  },
  {
   "cell_type": "code",
   "execution_count": 15,
   "metadata": {},
   "outputs": [
    {
     "name": "stdout",
     "output_type": "stream",
     "text": [
      "102\n",
      "105\n"
     ]
    }
   ],
   "source": [
    "print(find_number_1(17))\n",
    "print(find_number_1(5))"
   ]
  },
  {
   "cell_type": "code",
   "execution_count": 25,
   "metadata": {},
   "outputs": [],
   "source": [
    "def find_number_2(a :int):\n",
    "    i = 101\n",
    "    while(i % a != 0):\n",
    "        i += 1\n",
    "    return i"
   ]
  },
  {
   "cell_type": "code",
   "execution_count": 27,
   "metadata": {},
   "outputs": [
    {
     "name": "stdout",
     "output_type": "stream",
     "text": [
      "102\n",
      "105\n"
     ]
    }
   ],
   "source": [
    "print(find_number_2(17))\n",
    "print(find_number_2(5))"
   ]
  },
  {
   "cell_type": "code",
   "execution_count": 16,
   "metadata": {},
   "outputs": [],
   "source": [
    "import random"
   ]
  },
  {
   "cell_type": "code",
   "execution_count": 104,
   "metadata": {},
   "outputs": [],
   "source": [
    "# khởi tạo hàm random mà tổng hai số random bằng số cho trước\n",
    "def fine_number_random(total:int):\n",
    "    random.seed(0)\n",
    "    idx = 0\n",
    "    while(1):   \n",
    "        a = random.randint(1,20)\n",
    "        b = random.randint(1,20)\n",
    "        idx += 1\n",
    "        if a+b == total:\n",
    "            break\n",
    "    return idx    \n",
    "    "
   ]
  },
  {
   "cell_type": "code",
   "execution_count": 105,
   "metadata": {},
   "outputs": [
    {
     "name": "stdout",
     "output_type": "stream",
     "text": [
      "266\n",
      "32\n",
      "96\n"
     ]
    }
   ],
   "source": [
    "print(fine_number_random(40))\n",
    "print(fine_number_random(20))\n",
    "print(fine_number_random(35))"
   ]
  }
 ],
 "metadata": {
  "kernelspec": {
   "display_name": "Python 3",
   "language": "python",
   "name": "python3"
  },
  "language_info": {
   "codemirror_mode": {
    "name": "ipython",
    "version": 3
   },
   "file_extension": ".py",
   "mimetype": "text/x-python",
   "name": "python",
   "nbconvert_exporter": "python",
   "pygments_lexer": "ipython3",
   "version": "3.11.9"
  }
 },
 "nbformat": 4,
 "nbformat_minor": 2
}
