{
 "cells": [
  {
   "cell_type": "code",
   "execution_count": 13,
   "metadata": {},
   "outputs": [],
   "source": [
    "#khởi tạo hàm tìm số nguyên dương nhỏ nhất > 100 và chia hết cho một số:\n",
    "def find_number(a :int):\n",
    "    i = 100\n",
    "    while(1):\n",
    "        i += 1\n",
    "        if i >= 100 and i % a == 0:\n",
    "            break\n",
    "    return i\n"
   ]
  },
  {
   "cell_type": "code",
   "execution_count": 15,
   "metadata": {},
   "outputs": [
    {
     "name": "stdout",
     "output_type": "stream",
     "text": [
      "102\n",
      "105\n"
     ]
    }
   ],
   "source": [
    "print(find_number(17))\n",
    "print(find_number(5))"
   ]
  }
 ],
 "metadata": {
  "kernelspec": {
   "display_name": "Python 3",
   "language": "python",
   "name": "python3"
  },
  "language_info": {
   "codemirror_mode": {
    "name": "ipython",
    "version": 3
   },
   "file_extension": ".py",
   "mimetype": "text/x-python",
   "name": "python",
   "nbconvert_exporter": "python",
   "pygments_lexer": "ipython3",
   "version": "3.11.9"
  }
 },
 "nbformat": 4,
 "nbformat_minor": 2
}
