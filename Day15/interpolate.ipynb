{
 "cells": [
  {
   "cell_type": "markdown",
   "metadata": {},
   "source": [
    "#Interpolate: Nearest neighbor "
   ]
  },
  {
   "cell_type": "code",
   "execution_count": 17,
   "metadata": {},
   "outputs": [],
   "source": [
    "import math"
   ]
  },
  {
   "cell_type": "code",
   "execution_count": 14,
   "metadata": {},
   "outputs": [],
   "source": [
    "#Hàm tìm vị trí None\n",
    "def fine_None(data):\n",
    "    index = -1\n",
    "    for idx, num in enumerate(data):\n",
    "        if num == None:\n",
    "            index = idx\n",
    "            break\n",
    "    return index    \n",
    "        "
   ]
  },
  {
   "cell_type": "code",
   "execution_count": 15,
   "metadata": {},
   "outputs": [],
   "source": [
    "# tìm vị trí end\n",
    "def find_end(data,index):\n",
    "    end_idx = len(data)\n",
    "    for i in range(index+1,len(data)):\n",
    "        if data[i] != None:\n",
    "            end_idx = i\n",
    "            break\n",
    "    return end_idx\n"
   ]
  },
  {
   "cell_type": "code",
   "execution_count": 19,
   "metadata": {},
   "outputs": [],
   "source": [
    "# tính khoảng cách hai điểm\n",
    "def dictance_nearest(p1,p2):\n",
    "    x1,y1 = p1\n",
    "    x2,y2 = p2\n",
    "\n",
    "    dic = math.sqrt(((x2-x1)**2)+((y2-y1)**2))\n",
    "    return dic"
   ]
  },
  {
   "cell_type": "code",
   "execution_count": 37,
   "metadata": {},
   "outputs": [],
   "source": [
    "def query_point(p1,p2,p3,p4):\n",
    "\n",
    "    dic1 = dictance_nearest(p1,p2)\n",
    "    dic2 = dictance_nearest(p3,p4)\n",
    "\n",
    "    if dic1 <= dic2:\n",
    "        x,y = p1\n",
    "    else:\n",
    "        x,y = p4\n",
    "    return x,y"
   ]
  },
  {
   "cell_type": "code",
   "execution_count": 34,
   "metadata": {},
   "outputs": [],
   "source": [
    "# hàm tìm giá trị nội suy nearest neighbor\n",
    "def proccesing_interpolate(data):\n",
    "    while(1):\n",
    "        index = fine_None(data)\n",
    "        \n",
    "        if index == -1:\n",
    "            break\n",
    "\n",
    "        begin_idx = index - 1\n",
    "        end_idx = find_end(data,index)\n",
    "\n",
    "        if begin_idx < 0 :\n",
    "            y = data[end_idx]\n",
    "        elif end_idx >= len(data):\n",
    "            y = data[begin_idx]\n",
    "        else:\n",
    "            _,y= query_point((begin_idx,data[begin_idx]),(index,data[begin_idx]),(index,data[end_idx]),(end_idx,data[end_idx]))\n",
    "        data[index] = y\n",
    "\n",
    "    return data\n"
   ]
  },
  {
   "cell_type": "code",
   "execution_count": 38,
   "metadata": {},
   "outputs": [
    {
     "name": "stdout",
     "output_type": "stream",
     "text": [
      "[1, 1.1, None, 1.4, None, 1.5, None, 2.0]\n"
     ]
    },
    {
     "data": {
      "text/plain": [
       "[1, 1.1, 1.1, 1.4, 1.4, 1.5, 1.5, 2.0]"
      ]
     },
     "execution_count": 38,
     "metadata": {},
     "output_type": "execute_result"
    }
   ],
   "source": [
    "lst_data = [1,1.1,None,1.4,None,1.5,None,2.0]\n",
    "print(lst_data)\n",
    "\n",
    "proccesing_interpolate(lst_data)"
   ]
  },
  {
   "cell_type": "code",
   "execution_count": 39,
   "metadata": {},
   "outputs": [
    {
     "name": "stdout",
     "output_type": "stream",
     "text": [
      "[None, 1.1, None, 1.4, None, 1.5, None, 2.0]\n"
     ]
    },
    {
     "data": {
      "text/plain": [
       "[1.1, 1.1, 1.1, 1.4, 1.4, 1.5, 1.5, 2.0]"
      ]
     },
     "execution_count": 39,
     "metadata": {},
     "output_type": "execute_result"
    }
   ],
   "source": [
    "lst_data = [None,1.1,None,1.4,None,1.5,None,2.0]\n",
    "print(lst_data)\n",
    "\n",
    "proccesing_interpolate(lst_data)"
   ]
  },
  {
   "cell_type": "code",
   "execution_count": 42,
   "metadata": {},
   "outputs": [
    {
     "name": "stdout",
     "output_type": "stream",
     "text": [
      "[1, None, None, 1.4, None, 1.5, None, 2.0]\n"
     ]
    },
    {
     "data": {
      "text/plain": [
       "[1, 1, 1, 1.4, 1.4, 1.5, 1.5, 2.0]"
      ]
     },
     "execution_count": 42,
     "metadata": {},
     "output_type": "execute_result"
    }
   ],
   "source": [
    "lst_data = [1,None,None,1.4,None,1.5,None,2.0]\n",
    "print(lst_data)\n",
    "\n",
    "proccesing_interpolate(lst_data)"
   ]
  }
 ],
 "metadata": {
  "kernelspec": {
   "display_name": "Python 3",
   "language": "python",
   "name": "python3"
  },
  "language_info": {
   "codemirror_mode": {
    "name": "ipython",
    "version": 3
   },
   "file_extension": ".py",
   "mimetype": "text/x-python",
   "name": "python",
   "nbconvert_exporter": "python",
   "pygments_lexer": "ipython3",
   "version": "3.11.9"
  }
 },
 "nbformat": 4,
 "nbformat_minor": 2
}
