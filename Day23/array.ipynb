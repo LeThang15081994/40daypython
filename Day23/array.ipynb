{
 "cells": [
  {
   "cell_type": "code",
   "execution_count": 2,
   "metadata": {},
   "outputs": [],
   "source": [
    "import numpy as np\n",
    "import torch\n",
    "import tensorflow as tf"
   ]
  },
  {
   "cell_type": "code",
   "execution_count": 8,
   "metadata": {},
   "outputs": [
    {
     "name": "stdout",
     "output_type": "stream",
     "text": [
      "[0 1 2 3 4 5 6 7 8 9]\n",
      "tensor([0, 1, 2, 3, 4, 5, 6, 7, 8, 9])\n",
      "tf.Tensor([0 1 2 3 4 5 6 7 8 9], shape=(10,), dtype=int32)\n"
     ]
    }
   ],
   "source": [
    "# tạo mảng trong khoảng [0,10) với step = 1\n",
    "array_np = np.arange(10)\n",
    "print(array_np)\n",
    "array_torch= torch.arange(10)\n",
    "print(array_torch)\n",
    "array_tf= tf.range(10)\n",
    "print(array_tf)"
   ]
  },
  {
   "cell_type": "code",
   "execution_count": 13,
   "metadata": {},
   "outputs": [
    {
     "name": "stdout",
     "output_type": "stream",
     "text": [
      "[[1. 0. 0.]\n",
      " [0. 1. 0.]\n",
      " [0. 0. 1.]] \n",
      "\n",
      "tensor([[1., 0., 0.],\n",
      "        [0., 1., 0.],\n",
      "        [0., 0., 1.]]) \n",
      "\n",
      "tf.Tensor(\n",
      "[[1. 0. 0.]\n",
      " [0. 1. 0.]\n",
      " [0. 0. 1.]], shape=(3, 3), dtype=float32) \n",
      "\n"
     ]
    }
   ],
   "source": [
    "# tạo ma trận đơn vị với kích thước 3,3\n",
    "array_np3 = np.eye(3,3)\n",
    "print(array_np3,\"\\n\")\n",
    "array_torch3= torch.eye(3,3)\n",
    "print(array_torch3,\"\\n\")\n",
    "array_tf= tf.eye(3,3)\n",
    "print(array_tf,\"\\n\")\n"
   ]
  },
  {
   "cell_type": "code",
   "execution_count": 16,
   "metadata": {},
   "outputs": [
    {
     "name": "stdout",
     "output_type": "stream",
     "text": [
      "[[0.58801452 0.69910875 0.18815196 0.04380856]\n",
      " [0.20501895 0.10606287 0.72724014 0.67940052]\n",
      " [0.4738457  0.44829582 0.01910695 0.75259834]] \n",
      "\n",
      "[[ 5  1 -3  8]\n",
      " [-1 -4  0 -9]\n",
      " [-5  9 -6 -2]] \n",
      "\n"
     ]
    }
   ],
   "source": [
    "np.random.seed(2024)\n",
    "#tạo mảng ngẫu nhiên trong khoảng [0,1)\n",
    "array_radom_1 = np.random.rand(3,4)\n",
    "print(array_radom_1,\"\\n\")\n",
    "#tạo mảng ngẫu nhiên trong khoảng [-10,10]\n",
    "array_radom_2 = np.random.randint(-10,10,size=(3,4))\n",
    "print(array_radom_2 ,\"\\n\")"
   ]
  },
  {
   "cell_type": "code",
   "execution_count": 21,
   "metadata": {},
   "outputs": [
    {
     "name": "stdout",
     "output_type": "stream",
     "text": [
      "tensor([[0.5317, 0.8313, 0.9718, 0.1193],\n",
      "        [0.1669, 0.3495, 0.2150, 0.6201],\n",
      "        [0.4849, 0.7492, 0.1521, 0.5625]]) \n",
      "\n",
      "tensor([[  1,   8,   0,  -2],\n",
      "        [ -9, -10,  -9,   0],\n",
      "        [ -3,  -7,  -4,   8]]) \n",
      "\n"
     ]
    }
   ],
   "source": [
    "torch.manual_seed(2024)\n",
    "#tạo mảng ngẫu nhiên trong khoảng [0,1)\n",
    "torch_radom_1 = torch.rand(3,4)\n",
    "print(torch_radom_1,\"\\n\")\n",
    "#tạo mảng ngẫu nhiên trong khoảng [-10,10]\n",
    "torch_radom_2 = torch.randint(-10,10,size=(3,4))\n",
    "print(torch_radom_2,\"\\n\")"
   ]
  },
  {
   "cell_type": "code",
   "execution_count": 25,
   "metadata": {},
   "outputs": [
    {
     "name": "stdout",
     "output_type": "stream",
     "text": [
      "tf.Tensor(\n",
      "[[0.90034294 0.19453335 0.36069036 0.66361904]\n",
      " [0.76605344 0.2159369  0.6261736  0.07380784]\n",
      " [0.22062695 0.934368   0.93327904 0.69267046]], shape=(3, 4), dtype=float32) \n",
      "\n",
      "tf.Tensor(\n",
      "[[-3 -7  9  3]\n",
      " [ 2 -5 -3 -5]\n",
      " [ 4 -3 -3  5]], shape=(3, 4), dtype=int32) \n",
      "\n"
     ]
    }
   ],
   "source": [
    "tf.random.set_seed(2024)\n",
    "#tạo mảng ngẫu nhiên trong khoảng [0,1)\n",
    "tf_radom_1 = tf.random.uniform((3,4),0,1)\n",
    "print(tf_radom_1,\"\\n\")\n",
    "#tạo mảng ngẫu nhiên trong khoảng [-10,10]\n",
    "tf_radom_2 = tf.random.uniform((3,4),-10,10,dtype= tf.dtypes.int32)\n",
    "print(tf_radom_2,\"\\n\")"
   ]
  }
 ],
 "metadata": {
  "kernelspec": {
   "display_name": ".venv",
   "language": "python",
   "name": "python3"
  },
  "language_info": {
   "codemirror_mode": {
    "name": "ipython",
    "version": 3
   },
   "file_extension": ".py",
   "mimetype": "text/x-python",
   "name": "python",
   "nbconvert_exporter": "python",
   "pygments_lexer": "ipython3",
   "version": "3.11.9"
  }
 },
 "nbformat": 4,
 "nbformat_minor": 2
}
