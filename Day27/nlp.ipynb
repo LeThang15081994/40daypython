{
 "cells": [
  {
   "cell_type": "code",
   "execution_count": 8,
   "metadata": {},
   "outputs": [
    {
     "data": {
      "text/plain": [
       "[('Học sinh', 'N'), ('đang', 'R'), ('học toán', 'V')]"
      ]
     },
     "execution_count": 8,
     "metadata": {},
     "output_type": "execute_result"
    }
   ],
   "source": [
    "import underthesea as uds\n",
    "uds.pos_tag(\"Học sinh đang học toán\")"
   ]
  },
  {
   "cell_type": "code",
   "execution_count": 9,
   "metadata": {},
   "outputs": [
    {
     "data": {
      "text/plain": [
       "['kinh_doanh']"
      ]
     },
     "execution_count": 9,
     "metadata": {},
     "output_type": "execute_result"
    }
   ],
   "source": [
    "uds.classify('giá cổ phi ếu đ ang có nhi ều biến động trong thờigian qua')"
   ]
  },
  {
   "cell_type": "code",
   "execution_count": 10,
   "metadata": {},
   "outputs": [
    {
     "data": {
      "text/plain": [
       "'negative'"
      ]
     },
     "execution_count": 10,
     "metadata": {},
     "output_type": "execute_result"
    }
   ],
   "source": [
    "uds.sentiment(\"Sản phẩm mình đặt về không như quảng cáo\")"
   ]
  },
  {
   "cell_type": "code",
   "execution_count": 12,
   "metadata": {},
   "outputs": [
    {
     "data": {
      "text/plain": [
       "['Những đứa trẻ ngh èo thế hệ tôi biết đọc biết viết, thành người bằng những cuốn giáo khoa đi mượn như thế.',\n",
       " 'Cũng có những đứa nhà ngh èo quá, không mượn đâu được bộ sách cho tử tế, môn được môn không , càng học càng đúp, cuối cùng bỏ dở giữa chừng.']"
      ]
     },
     "execution_count": 12,
     "metadata": {},
     "output_type": "execute_result"
    }
   ],
   "source": [
    "text = 'Những đứa trẻ ngh èo thế hệ tôi biết đọc biết viết, thành người bằng những cuốn giáo khoa đi mượn như thế. Cũng có những đứa nhà ngh èo quá, không mượn đâu được bộ sách cho tử tế, môn được môn không , càng học càng đúp, cuối cùng bỏ dở giữa chừng.'\n",
    "uds.sent_tokenize(text)"
   ]
  },
  {
   "cell_type": "code",
   "execution_count": 14,
   "metadata": {},
   "outputs": [
    {
     "data": {
      "text/plain": [
       "['Công trình',\n",
       " 'của',\n",
       " 'PGS Vân',\n",
       " 'đã',\n",
       " 'thay thế',\n",
       " 'bạch kim',\n",
       " 'trong',\n",
       " 'pin',\n",
       " 'nhiên liệu',\n",
       " ',',\n",
       " 'giúp',\n",
       " 'giảm',\n",
       " 'giá thành',\n",
       " 'mà',\n",
       " 'pin',\n",
       " 'có',\n",
       " 'độ',\n",
       " 'bền',\n",
       " 'cao',\n",
       " 'hơn',\n",
       " '.']"
      ]
     },
     "execution_count": 14,
     "metadata": {},
     "output_type": "execute_result"
    }
   ],
   "source": [
    "sentence = \"Công trình của PGS Vân đã thay thế bạch kim trong pin nhiên liệu, giúp giảm giá thành mà pin có độ bền cao hơn.\"\n",
    "uds.word_tokenize(sentence)"
   ]
  },
  {
   "cell_type": "code",
   "execution_count": 15,
   "metadata": {},
   "outputs": [
    {
     "data": {
      "text/plain": [
       "[('Công cụ', 'N'),\n",
       " ('Suno', 'Np'),\n",
       " ('AI', 'P'),\n",
       " ('nhanh chóng', 'A'),\n",
       " ('nhận', 'V'),\n",
       " ('được', 'R'),\n",
       " ('sự', 'N'),\n",
       " ('chú ý', 'V'),\n",
       " ('từ', 'E'),\n",
       " ('người', 'N'),\n",
       " ('dùng', 'V'),\n",
       " ('khi', 'N'),\n",
       " ('có thể', 'R'),\n",
       " ('tạo', 'V'),\n",
       " ('bài', 'N'),\n",
       " ('hát', 'V'),\n",
       " ('chỉ', 'R'),\n",
       " ('với', 'E'),\n",
       " ('vài', 'L'),\n",
       " ('câu', 'N'),\n",
       " ('lệnh', 'N'),\n",
       " ('.', 'CH'),\n",
       " ('Phiên bản', 'V'),\n",
       " ('mới', 'A'),\n",
       " ('nhất', 'A'),\n",
       " ('V3 Alpha', 'Np'),\n",
       " ('mới', 'R'),\n",
       " ('được', 'V'),\n",
       " ('giới thiệu', 'V'),\n",
       " ('cuối', 'N'),\n",
       " ('tháng', 'N'),\n",
       " ('2', 'M'),\n",
       " (',', 'CH'),\n",
       " ('có', 'V'),\n",
       " ('bản', 'N'),\n",
       " ('miễn phí', 'V'),\n",
       " ('với', 'E'),\n",
       " ('10', 'M'),\n",
       " ('bài', 'N'),\n",
       " ('hát', 'V'),\n",
       " ('mỗi', 'L'),\n",
       " ('ngày', 'N'),\n",
       " ('.', 'CH')]"
      ]
     },
     "execution_count": 15,
     "metadata": {},
     "output_type": "execute_result"
    }
   ],
   "source": [
    "#Bài tập\n",
    "# Pos_tag\n",
    "\n",
    "text = 'Công cụ Suno AI nhanh chóng nhận được sự chú ý từ người dùng khi có thể tạo bài hát chỉ với vài câu lệnh. Phiên bản mới nhất V3 Alpha mới được giới thiệu cuối tháng 2, có bản miễn phí với 10 bài hát mỗi ngày.'\n",
    "uds.pos_tag(text)"
   ]
  },
  {
   "cell_type": "code",
   "execution_count": 16,
   "metadata": {},
   "outputs": [
    {
     "data": {
      "text/plain": [
       "['vi_tinh']"
      ]
     },
     "execution_count": 16,
     "metadata": {},
     "output_type": "execute_result"
    }
   ],
   "source": [
    "#classify\n",
    "uds.classify(text)"
   ]
  },
  {
   "cell_type": "code",
   "execution_count": 17,
   "metadata": {},
   "outputs": [
    {
     "data": {
      "text/plain": [
       "'positive'"
      ]
     },
     "execution_count": 17,
     "metadata": {},
     "output_type": "execute_result"
    }
   ],
   "source": [
    "#sentiment\n",
    "uds.sentiment(text)"
   ]
  },
  {
   "cell_type": "code",
   "execution_count": 18,
   "metadata": {},
   "outputs": [
    {
     "data": {
      "text/plain": [
       "['Công cụ Suno AI nhanh chóng nhận được sự chú ý từ người dùng khi có thể tạo bài hát chỉ với vài câu lệnh.',\n",
       " 'Phiên bản mới nhất V3 Alpha mới được giới thiệu cuối tháng 2, có bản miễn phí với 10 bài hát mỗi ngày.']"
      ]
     },
     "execution_count": 18,
     "metadata": {},
     "output_type": "execute_result"
    }
   ],
   "source": [
    "#Sentence Segmentation\n",
    "uds.sent_tokenize(text)"
   ]
  },
  {
   "cell_type": "code",
   "execution_count": 19,
   "metadata": {},
   "outputs": [
    {
     "data": {
      "text/plain": [
       "['Công cụ',\n",
       " 'Suno',\n",
       " 'AI',\n",
       " 'nhanh chóng',\n",
       " 'nhận',\n",
       " 'được',\n",
       " 'sự',\n",
       " 'chú ý',\n",
       " 'từ',\n",
       " 'người',\n",
       " 'dùng',\n",
       " 'khi',\n",
       " 'có thể',\n",
       " 'tạo',\n",
       " 'bài',\n",
       " 'hát',\n",
       " 'chỉ',\n",
       " 'với',\n",
       " 'vài',\n",
       " 'câu',\n",
       " 'lệnh',\n",
       " '.',\n",
       " 'Phiên bản',\n",
       " 'mới',\n",
       " 'nhất',\n",
       " 'V3 Alpha',\n",
       " 'mới',\n",
       " 'được',\n",
       " 'giới thiệu',\n",
       " 'cuối',\n",
       " 'tháng',\n",
       " '2',\n",
       " ',',\n",
       " 'có',\n",
       " 'bản',\n",
       " 'miễn phí',\n",
       " 'với',\n",
       " '10',\n",
       " 'bài',\n",
       " 'hát',\n",
       " 'mỗi',\n",
       " 'ngày',\n",
       " '.']"
      ]
     },
     "execution_count": 19,
     "metadata": {},
     "output_type": "execute_result"
    }
   ],
   "source": [
    "#Word Segmentation\n",
    "uds.word_tokenize(text)"
   ]
  }
 ],
 "metadata": {
  "kernelspec": {
   "display_name": "Python 3",
   "language": "python",
   "name": "python3"
  },
  "language_info": {
   "codemirror_mode": {
    "name": "ipython",
    "version": 3
   },
   "file_extension": ".py",
   "mimetype": "text/x-python",
   "name": "python",
   "nbconvert_exporter": "python",
   "pygments_lexer": "ipython3",
   "version": "3.11.9"
  }
 },
 "nbformat": 4,
 "nbformat_minor": 2
}
