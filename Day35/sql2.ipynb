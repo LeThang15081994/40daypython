{
 "cells": [
  {
   "cell_type": "code",
   "execution_count": 1,
   "metadata": {},
   "outputs": [],
   "source": [
    "import sqlite3\n",
    "import pandas as pd\n",
    "\n",
    "connection = sqlite3 . connect ('database . sqlite ')\n",
    "cursor = connection . cursor ()"
   ]
  },
  {
   "cell_type": "code",
   "execution_count": 2,
   "metadata": {},
   "outputs": [
    {
     "ename": "OperationalError",
     "evalue": "table PRODUCT already exists",
     "output_type": "error",
     "traceback": [
      "\u001b[1;31m---------------------------------------------------------------------------\u001b[0m",
      "\u001b[1;31mOperationalError\u001b[0m                          Traceback (most recent call last)",
      "Cell \u001b[1;32mIn[2], line 2\u001b[0m\n\u001b[0;32m      1\u001b[0m \u001b[38;5;66;03m# Tạo bảng PRODUCT :\u001b[39;00m\n\u001b[1;32m----> 2\u001b[0m \u001b[43mcursor\u001b[49m\u001b[43m \u001b[49m\u001b[38;5;241;43m.\u001b[39;49m\u001b[43m \u001b[49m\u001b[43mexecute\u001b[49m\u001b[43m \u001b[49m\u001b[43m(\u001b[49m\n\u001b[0;32m      3\u001b[0m \u001b[38;5;124;43;03m\"\"\"CREATE TABLE PRODUCT (\u001b[39;49;00m\n\u001b[0;32m      4\u001b[0m \u001b[38;5;124;43;03mID INTEGER PRIMARY KEY ,\u001b[39;49;00m\n\u001b[0;32m      5\u001b[0m \u001b[38;5;124;43;03mNAME TEXT NOT NULL ,\u001b[39;49;00m\n\u001b[0;32m      6\u001b[0m \u001b[38;5;124;43;03mPRICE INTEGER NOT NULL\u001b[39;49;00m\n\u001b[0;32m      7\u001b[0m \u001b[38;5;124;43;03m);\"\"\"\u001b[39;49;00m\n\u001b[0;32m      8\u001b[0m \u001b[43m)\u001b[49m\n",
      "\u001b[1;31mOperationalError\u001b[0m: table PRODUCT already exists"
     ]
    }
   ],
   "source": [
    "# Tạo bảng PRODUCT :\n",
    "cursor . execute (\n",
    "\"\"\"CREATE TABLE PRODUCT (\n",
    "ID INTEGER PRIMARY KEY ,\n",
    "NAME TEXT NOT NULL ,\n",
    "PRICE INTEGER NOT NULL\n",
    ");\"\"\"\n",
    ")"
   ]
  },
  {
   "cell_type": "code",
   "execution_count": null,
   "metadata": {},
   "outputs": [],
   "source": [
    "cursor . execute (\"\"\"\n",
    "INSERT INTO PRODUCT (ID , NAME , PRICE )\n",
    "VALUES\n",
    "('1','iPhone15','18000000') ,\n",
    "('2','Galaxy Z-Fold 5','30000000') ;\n",
    "\"\"\" )\n",
    "\n",
    "connection . commit ()"
   ]
  },
  {
   "cell_type": "code",
   "execution_count": 5,
   "metadata": {},
   "outputs": [
    {
     "name": "stdout",
     "output_type": "stream",
     "text": [
      "   ID             NAME     PRICE\n",
      "0   1        iPhone 15  18000000\n",
      "1   2  Galaxy Z-Fold 5  30000000\n"
     ]
    }
   ],
   "source": [
    "data =pd.read_sql_query(\" SELECT * FROM PRODUCT \", connection )\n",
    "print (data)"
   ]
  },
  {
   "cell_type": "code",
   "execution_count": 13,
   "metadata": {},
   "outputs": [],
   "source": [
    "cursor . execute (\"\"\"\n",
    "UPDATE PRODUCT\n",
    "SET PRICE = '50000000'                \n",
    "WHERE 2 = 2\n",
    "AND ID = '2';\n",
    "\"\"\" )\n",
    "\n",
    "connection . commit ()\n"
   ]
  },
  {
   "cell_type": "code",
   "execution_count": 14,
   "metadata": {},
   "outputs": [
    {
     "name": "stdout",
     "output_type": "stream",
     "text": [
      "   ID             NAME     PRICE\n",
      "0   1        iPhone 15  18000000\n",
      "1   2  Galaxy Z-Fold 5  50000000\n"
     ]
    }
   ],
   "source": [
    "data =pd.read_sql_query(\" SELECT * FROM PRODUCT \", connection )\n",
    "print (data)"
   ]
  },
  {
   "cell_type": "code",
   "execution_count": 15,
   "metadata": {},
   "outputs": [],
   "source": [
    "cursor . execute (\"\"\"\n",
    "DELETE FROM PRODUCT\n",
    "WHERE 1 = 1\n",
    "AND ID = '2';\n",
    "\"\"\" )\n",
    "\n",
    "connection . commit ()"
   ]
  },
  {
   "cell_type": "code",
   "execution_count": 16,
   "metadata": {},
   "outputs": [
    {
     "name": "stdout",
     "output_type": "stream",
     "text": [
      "   ID       NAME     PRICE\n",
      "0   1  iPhone 15  18000000\n"
     ]
    }
   ],
   "source": [
    "data =pd.read_sql_query(\" SELECT * FROM PRODUCT \", connection )\n",
    "print (data)"
   ]
  },
  {
   "cell_type": "code",
   "execution_count": 18,
   "metadata": {},
   "outputs": [
    {
     "ename": "IntegrityError",
     "evalue": "UNIQUE constraint failed: PRODUCT.ID",
     "output_type": "error",
     "traceback": [
      "\u001b[1;31m---------------------------------------------------------------------------\u001b[0m",
      "\u001b[1;31mIntegrityError\u001b[0m                            Traceback (most recent call last)",
      "Cell \u001b[1;32mIn[18], line 1\u001b[0m\n\u001b[1;32m----> 1\u001b[0m \u001b[43mcursor\u001b[49m\u001b[43m \u001b[49m\u001b[38;5;241;43m.\u001b[39;49m\u001b[43m \u001b[49m\u001b[43mexecute\u001b[49m\u001b[43m \u001b[49m\u001b[43m(\u001b[49m\u001b[38;5;124;43m\"\"\"\u001b[39;49m\n\u001b[0;32m      2\u001b[0m \u001b[38;5;124;43mINSERT INTO PRODUCT (ID , NAME , PRICE )\u001b[39;49m\n\u001b[0;32m      3\u001b[0m \u001b[38;5;124;43mVALUES\u001b[39;49m\n\u001b[0;32m      4\u001b[0m \u001b[38;5;124;43m(\u001b[39;49m\u001b[38;5;124;43m'\u001b[39;49m\u001b[38;5;124;43m2\u001b[39;49m\u001b[38;5;124;43m'\u001b[39;49m\u001b[38;5;124;43m,\u001b[39;49m\u001b[38;5;124;43m'\u001b[39;49m\u001b[38;5;124;43mGalaxy Z-Fold 5\u001b[39;49m\u001b[38;5;124;43m'\u001b[39;49m\u001b[38;5;124;43m,\u001b[39;49m\u001b[38;5;124;43m'\u001b[39;49m\u001b[38;5;124;43m30000000\u001b[39;49m\u001b[38;5;124;43m'\u001b[39;49m\u001b[38;5;124;43m) ;\u001b[39;49m\n\u001b[0;32m      5\u001b[0m \u001b[38;5;124;43m\"\"\"\u001b[39;49m\u001b[43m \u001b[49m\u001b[43m)\u001b[49m\n\u001b[0;32m      7\u001b[0m connection \u001b[38;5;241m.\u001b[39m commit ()\n",
      "\u001b[1;31mIntegrityError\u001b[0m: UNIQUE constraint failed: PRODUCT.ID"
     ]
    }
   ],
   "source": [
    "cursor . execute (\"\"\"\n",
    "INSERT INTO PRODUCT (ID , NAME , PRICE )\n",
    "VALUES\n",
    "('2','Galaxy Z-Fold 5','30000000') ;\n",
    "\"\"\" )\n",
    "\n",
    "connection . commit ()"
   ]
  },
  {
   "cell_type": "code",
   "execution_count": 19,
   "metadata": {},
   "outputs": [
    {
     "name": "stdout",
     "output_type": "stream",
     "text": [
      "   ID             NAME     PRICE\n",
      "0   1        iPhone 15  18000000\n",
      "1   2  Galaxy Z-Fold 5  30000000\n"
     ]
    }
   ],
   "source": [
    "data =pd.read_sql_query(\" SELECT * FROM PRODUCT \", connection )\n",
    "print (data)"
   ]
  },
  {
   "cell_type": "code",
   "execution_count": 20,
   "metadata": {},
   "outputs": [],
   "source": [
    "cursor . execute (\"\"\"\n",
    "DELETE FROM PRODUCT\n",
    "WHERE 1 = 1\n",
    "AND ID = '1';\n",
    "\"\"\" )\n",
    "\n",
    "connection . commit ()"
   ]
  },
  {
   "cell_type": "code",
   "execution_count": 21,
   "metadata": {},
   "outputs": [
    {
     "name": "stdout",
     "output_type": "stream",
     "text": [
      "   ID             NAME     PRICE\n",
      "0   2  Galaxy Z-Fold 5  30000000\n"
     ]
    }
   ],
   "source": [
    "data =pd.read_sql_query(\" SELECT * FROM PRODUCT \", connection )\n",
    "print (data)"
   ]
  }
 ],
 "metadata": {
  "kernelspec": {
   "display_name": "Python 3",
   "language": "python",
   "name": "python3"
  },
  "language_info": {
   "codemirror_mode": {
    "name": "ipython",
    "version": 3
   },
   "file_extension": ".py",
   "mimetype": "text/x-python",
   "name": "python",
   "nbconvert_exporter": "python",
   "pygments_lexer": "ipython3",
   "version": "3.11.9"
  }
 },
 "nbformat": 4,
 "nbformat_minor": 2
}
