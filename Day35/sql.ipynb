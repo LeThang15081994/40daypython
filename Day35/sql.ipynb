{
 "cells": [
  {
   "cell_type": "code",
   "execution_count": 10,
   "metadata": {},
   "outputs": [],
   "source": [
    "import sqlite3\n",
    "# Tạo kết nối tới CSDL có tên là database . sqlite\n",
    "# Nếu database . sqlite chưa tồn tại trong hệ thống thì nó sẽ\n",
    "# tự tạo mới\n",
    "connection = sqlite3 . connect ('database . sqlite ')\n",
    "cursor = connection . cursor ()\n"
   ]
  },
  {
   "cell_type": "code",
   "execution_count": null,
   "metadata": {},
   "outputs": [],
   "source": [
    "# Tạo bảng CUSTOMERS :\n",
    "cursor . execute (\n",
    "\"\"\"CREATE TABLE CUSTOMERS (\n",
    "EMAIL TEXT PRIMARY KEY ,\n",
    "NAME TEXT NOT NULL ,\n",
    "PHONE TEXT NOT NULL\n",
    ");\"\"\"\n",
    ")"
   ]
  },
  {
   "cell_type": "code",
   "execution_count": null,
   "metadata": {},
   "outputs": [],
   "source": [
    "# Insert data mới\n",
    "cursor . execute (\"\"\"\n",
    "INSERT INTO CUSTOMERS (EMAIL , NAME , PHONE )\n",
    "VALUES\n",
    "('nguyen@aivietnam.edu.vn','Nguyen','123456789') ,\n",
    "('admin@aivietnam.edu.vn','Vinh','1122334455') ;\n",
    "\"\"\" )\n",
    "\n",
    "connection . commit ()"
   ]
  },
  {
   "cell_type": "code",
   "execution_count": 27,
   "metadata": {},
   "outputs": [
    {
     "name": "stdout",
     "output_type": "stream",
     "text": [
      "                     EMAIL    NAME       PHONE\n",
      "0  nguyen@aivietnam.edu.vn  Nguyen   123456789\n",
      "1   admin@aivietnam.edu.vn    Vinh  1122334455\n"
     ]
    }
   ],
   "source": [
    "import pandas as pd\n",
    "# Lấy tất cả data từ bảng CUSTOMER\n",
    "data =pd.read_sql_query(\" SELECT * FROM CUSTOMERS \", connection )\n",
    "print (data)"
   ]
  },
  {
   "cell_type": "code",
   "execution_count": 31,
   "metadata": {},
   "outputs": [
    {
     "name": "stdout",
     "output_type": "stream",
     "text": [
      "                     EMAIL          NAME       PHONE\n",
      "0  nguyen@aivietnam.edu.vn  Hoang Nguyen   123456789\n",
      "1   admin@aivietnam.edu.vn          Vinh  1122334455\n"
     ]
    }
   ],
   "source": [
    "# Update name của email : nguyen@aivietnam . edu .vn\n",
    "cursor . execute (\"\"\"\n",
    "UPDATE CUSTOMERS\n",
    "SET NAME = 'Hoang Nguyen'                \n",
    "WHERE 1 = 1\n",
    "AND EMAIL = 'nguyen@aivietnam.edu.vn';\n",
    "\"\"\" )\n",
    "\n",
    "connection . commit ()\n",
    "data =pd.read_sql_query(\" SELECT * FROM CUSTOMERS \", connection )\n",
    "print (data)"
   ]
  },
  {
   "cell_type": "code",
   "execution_count": 32,
   "metadata": {},
   "outputs": [
    {
     "name": "stdout",
     "output_type": "stream",
     "text": [
      "                     EMAIL          NAME       PHONE\n",
      "0  nguyen@aivietnam.edu.vn  Hoang Nguyen  0123456789\n",
      "1   admin@aivietnam.edu.vn          Vinh  1122334455\n"
     ]
    }
   ],
   "source": [
    "cursor . execute (\"\"\"\n",
    "UPDATE CUSTOMERS\n",
    "SET PHONE = '0123456789'                \n",
    "WHERE 2 = 2\n",
    "AND EMAIL = 'nguyen@aivietnam.edu.vn';\n",
    "\"\"\" )\n",
    "\n",
    "connection . commit ()\n",
    "data =pd.read_sql_query(\" SELECT * FROM CUSTOMERS \", connection )\n",
    "print (data)"
   ]
  },
  {
   "cell_type": "code",
   "execution_count": 34,
   "metadata": {},
   "outputs": [
    {
     "name": "stdout",
     "output_type": "stream",
     "text": [
      "                    EMAIL  NAME       PHONE\n",
      "0  admin@aivietnam.edu.vn  Vinh  1122334455\n"
     ]
    }
   ],
   "source": [
    "# Update name của email : nguyen@aivietnam . edu .vn\n",
    "cursor . execute (\"\"\"\n",
    "DELETE FROM CUSTOMERS\n",
    "WHERE 1 = 1\n",
    "AND EMAIL = 'nguyen@aivietnam.edu.vn';\n",
    "\"\"\" )\n",
    "\n",
    "connection . commit ()\n",
    "\n",
    "data =pd. read_sql_query (\" SELECT * FROM CUSTOMERS \", connection )\n",
    "print ( data )"
   ]
  }
 ],
 "metadata": {
  "kernelspec": {
   "display_name": "Python 3",
   "language": "python",
   "name": "python3"
  },
  "language_info": {
   "codemirror_mode": {
    "name": "ipython",
    "version": 3
   },
   "file_extension": ".py",
   "mimetype": "text/x-python",
   "name": "python",
   "nbconvert_exporter": "python",
   "pygments_lexer": "ipython3",
   "version": "3.11.9"
  }
 },
 "nbformat": 4,
 "nbformat_minor": 2
}
