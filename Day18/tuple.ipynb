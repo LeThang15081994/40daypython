{
 "cells": [
  {
   "cell_type": "code",
   "execution_count": 1,
   "metadata": {},
   "outputs": [],
   "source": [
    "import math"
   ]
  },
  {
   "cell_type": "code",
   "execution_count": 2,
   "metadata": {},
   "outputs": [],
   "source": [
    "#khởi tạo hai tuple\n",
    "tuple1=(2,3)\n",
    "tuple2=(3,6)"
   ]
  },
  {
   "cell_type": "code",
   "execution_count": 6,
   "metadata": {},
   "outputs": [
    {
     "name": "stdout",
     "output_type": "stream",
     "text": [
      "(5, 6)\n",
      "(9, 18)\n"
     ]
    }
   ],
   "source": [
    "#Câu 2\n",
    "#Tổng và tích của tuple1\n",
    "\n",
    "p1,p2 = tuple1\n",
    "q1,q2 = tuple2\n",
    "\n",
    "result_tuple1 = (p1+p2,p1*p2)\n",
    "result_tuple2 = (q1+q2,q1*q2)\n",
    "\n",
    "print(result_tuple1 )\n",
    "print(result_tuple2 )"
   ]
  },
  {
   "cell_type": "code",
   "execution_count": 5,
   "metadata": {},
   "outputs": [
    {
     "name": "stdout",
     "output_type": "stream",
     "text": [
      "3.1622776601683795\n"
     ]
    }
   ],
   "source": [
    "#Câu 3\n",
    "dictance = math.sqrt((p1-q1)**2 + (p2-q2)**2)\n",
    "\n",
    "print(dictance)\n"
   ]
  },
  {
   "cell_type": "code",
   "execution_count": 8,
   "metadata": {},
   "outputs": [
    {
     "name": "stdout",
     "output_type": "stream",
     "text": [
      "(1, 0)\n"
     ]
    }
   ],
   "source": [
    "#Câu 4\n",
    "index = (tuple1.index(3),tuple2.index(3))\n",
    "print(index)"
   ]
  }
 ],
 "metadata": {
  "kernelspec": {
   "display_name": "Python 3",
   "language": "python",
   "name": "python3"
  },
  "language_info": {
   "codemirror_mode": {
    "name": "ipython",
    "version": 3
   },
   "file_extension": ".py",
   "mimetype": "text/x-python",
   "name": "python",
   "nbconvert_exporter": "python",
   "pygments_lexer": "ipython3",
   "version": "3.11.9"
  }
 },
 "nbformat": 4,
 "nbformat_minor": 2
}
