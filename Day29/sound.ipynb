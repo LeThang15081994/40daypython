{
 "cells": [
  {
   "cell_type": "markdown",
   "metadata": {},
   "source": [
    "### Trong Python, có một số thư viện phổ biến được sử dụng để xử lý âm thanh, các thư viện này giúp người dùng dễ sử dụng để thao tác với file âm thanh chẳng hạn như đọc, ghi, cắt, nối và xử lý các file, chúng ta cùng tìm hiểu một số thư viện phổ biến hiện nay của Python trong dữ liệu này:\n",
    "#### - Librosa:\n",
    "#### - Scipy:\n",
    "#### - SpeechRecognition:\n",
    "#### - gtts::"
   ]
  },
  {
   "cell_type": "code",
   "execution_count": null,
   "metadata": {},
   "outputs": [],
   "source": []
  }
 ],
 "metadata": {
  "kernelspec": {
   "display_name": "Python 3",
   "language": "python",
   "name": "python3"
  },
  "language_info": {
   "codemirror_mode": {
    "name": "ipython",
    "version": 3
   },
   "file_extension": ".py",
   "mimetype": "text/x-python",
   "name": "python",
   "nbconvert_exporter": "python",
   "pygments_lexer": "ipython3",
   "version": "3.11.9"
  }
 },
 "nbformat": 4,
 "nbformat_minor": 2
}
