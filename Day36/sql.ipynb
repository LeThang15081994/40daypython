{
 "cells": [
  {
   "cell_type": "code",
   "execution_count": 1,
   "metadata": {},
   "outputs": [],
   "source": [
    "import sqlite3\n",
    "import pandas as pd"
   ]
  },
  {
   "cell_type": "code",
   "execution_count": 2,
   "metadata": {},
   "outputs": [],
   "source": [
    "connection = sqlite3 . connect ('database . sqlite ')\n",
    "cursor = connection . cursor ()"
   ]
  },
  {
   "cell_type": "code",
   "execution_count": 3,
   "metadata": {},
   "outputs": [
    {
     "data": {
      "text/plain": [
       "<sqlite3.Cursor at 0x2e181882940>"
      ]
     },
     "execution_count": 3,
     "metadata": {},
     "output_type": "execute_result"
    }
   ],
   "source": [
    "# Tạo bảng PRODUCT :\n",
    "cursor . execute (\n",
    "\"\"\"CREATE TABLE STOCK (\n",
    "ID INTEGER PRIMARY KEY ,\n",
    "NAME TEXT NOT NULL ,\n",
    "BUY INTEGER NOT NULL,\n",
    "INVERTOR TEXT NOT NULL\n",
    ");\"\"\"\n",
    ")"
   ]
  },
  {
   "cell_type": "code",
   "execution_count": 6,
   "metadata": {},
   "outputs": [],
   "source": [
    "cursor . execute (\"\"\"\n",
    "INSERT INTO STOCK (ID , NAME , BUY, INVERTOR )\n",
    "VALUES\n",
    "('1','ACB','29.45','Nguyen'),\n",
    "('2','VIC','44.55','Nguyen'),\n",
    "('3','GMD','74.30','Nguyen'),\n",
    "('4','ACB','28.45','Vinh'), \n",
    "('5','VIC','40.45','Vinh'),\n",
    "('6','GMD','60.30','Vinh');\n",
    "\"\"\" )\n",
    "\n",
    "connection . commit ()"
   ]
  },
  {
   "cell_type": "code",
   "execution_count": 8,
   "metadata": {},
   "outputs": [
    {
     "name": "stdout",
     "output_type": "stream",
     "text": [
      "   ID NAME    BUY INVERTOR\n",
      "0   1  ACB  29.45   Nguyen\n",
      "1   2  VIC  44.55   Nguyen\n",
      "2   3  GMD  74.30   Nguyen\n",
      "3   4  ACB  28.45     Vinh\n",
      "4   5  VIC  40.45     Vinh\n",
      "5   6  GMD  60.30     Vinh\n"
     ]
    }
   ],
   "source": [
    "data =pd.read_sql_query(\" SELECT * FROM STOCK \", connection )\n",
    "print (data)"
   ]
  },
  {
   "cell_type": "code",
   "execution_count": 10,
   "metadata": {},
   "outputs": [
    {
     "name": "stdout",
     "output_type": "stream",
     "text": [
      "   total_revenue\n",
      "0          277.5\n"
     ]
    }
   ],
   "source": [
    "query = \"\"\"\n",
    "SELECT SUM ( BUY ) AS total_revenue\n",
    "FROM STOCK ;\n",
    "\"\"\"\n",
    "\n",
    "data_sum = pd. read_sql_query (query , connection )\n",
    "print ( data_sum )"
   ]
  },
  {
   "cell_type": "code",
   "execution_count": 18,
   "metadata": {},
   "outputs": [
    {
     "name": "stdout",
     "output_type": "stream",
     "text": [
      "  INVERTOR NAME  MAX_PRICE\n",
      "0   Nguyen  GMD       74.3\n",
      "1     Vinh  GMD       60.3\n"
     ]
    }
   ],
   "source": [
    "query = \"\"\"\n",
    "SELECT INVERTOR, NAME , MAX ( BUY ) AS MAX_PRICE\n",
    "FROM STOCK \n",
    "GROUP BY INVERTOR;\n",
    "\"\"\"\n",
    "data_max = pd. read_sql_query (query , connection )\n",
    "print ( data_max )"
   ]
  }
 ],
 "metadata": {
  "kernelspec": {
   "display_name": "Python 3",
   "language": "python",
   "name": "python3"
  },
  "language_info": {
   "codemirror_mode": {
    "name": "ipython",
    "version": 3
   },
   "file_extension": ".py",
   "mimetype": "text/x-python",
   "name": "python",
   "nbconvert_exporter": "python",
   "pygments_lexer": "ipython3",
   "version": "3.11.9"
  }
 },
 "nbformat": 4,
 "nbformat_minor": 2
}
