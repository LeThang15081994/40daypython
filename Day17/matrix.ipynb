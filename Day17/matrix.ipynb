{
 "cells": [
  {
   "cell_type": "code",
   "execution_count": null,
   "metadata": {},
   "outputs": [],
   "source": [
    "import math"
   ]
  },
  {
   "cell_type": "markdown",
   "metadata": {},
   "source": [
    "# Câu 1"
   ]
  },
  {
   "cell_type": "code",
   "execution_count": 8,
   "metadata": {},
   "outputs": [
    {
     "name": "stdout",
     "output_type": "stream",
     "text": [
      "<class 'list'>\n"
     ]
    }
   ],
   "source": [
    "A = [[1,2,3],\n",
    "     [4,5,6],\n",
    "     [7,8,9]]\n",
    "\n",
    "B = [[2,4,6],\n",
    "     [1,3,5],\n",
    "     [1,0,1]]\n",
    "\n",
    "print(type(A))"
   ]
  },
  {
   "cell_type": "code",
   "execution_count": 25,
   "metadata": {},
   "outputs": [
    {
     "name": "stdout",
     "output_type": "stream",
     "text": [
      "[[3, 6, 9], [5, 8, 11], [8, 8, 10]]\n"
     ]
    }
   ],
   "source": [
    "#Tổng của hai ma trận\n",
    "sum_matrix = []\n",
    "map=[]\n",
    "\n",
    "for i in range(len(A)):\n",
    "    for j in range(len(A)):\n",
    "        map.append(A[i][j] + B[i][j])\n",
    "    sum_matrix.append(map)\n",
    "    map = []\n",
    "\n",
    "print(sum_matrix)"
   ]
  },
  {
   "cell_type": "code",
   "execution_count": 26,
   "metadata": {},
   "outputs": [
    {
     "name": "stdout",
     "output_type": "stream",
     "text": [
      "[[-1, -2, -3], [3, 2, 1], [6, 8, 8]]\n"
     ]
    }
   ],
   "source": [
    "# Hiệu của hai ma trận\n",
    "sub_matrix = []\n",
    "map=[]\n",
    "\n",
    "for i in range(len(A)):\n",
    "    for j in range(len(A)):\n",
    "        map.append(A[i][j] - B[i][j])\n",
    "    sub_matrix.append(map)\n",
    "    map = []\n",
    "\n",
    "print(sub_matrix)"
   ]
  },
  {
   "cell_type": "code",
   "execution_count": 38,
   "metadata": {},
   "outputs": [
    {
     "name": "stdout",
     "output_type": "stream",
     "text": [
      "[[7, 10, 19], [19, 31, 55], [31, 52, 91]]\n"
     ]
    }
   ],
   "source": [
    "sum = 0\n",
    "map = []\n",
    "dot_matrix = []\n",
    "\n",
    "for idx in range(len(A)):\n",
    "    for i in range(len(A)):\n",
    "        for j in range(len(A)):\n",
    "            sum += (A[idx][j] * B[j][i])\n",
    "        map.append(sum)\n",
    "        sum = 0\n",
    "    dot_matrix. append(map)\n",
    "    map = []\n",
    "print(dot_matrix)"
   ]
  },
  {
   "cell_type": "markdown",
   "metadata": {},
   "source": [
    "# câu 2"
   ]
  },
  {
   "cell_type": "code",
   "execution_count": 39,
   "metadata": {},
   "outputs": [],
   "source": [
    "lst2D = [[1,2,3],\n",
    "         [4,5,6],\n",
    "         [7,8,9]]"
   ]
  },
  {
   "cell_type": "code",
   "execution_count": 46,
   "metadata": {},
   "outputs": [
    {
     "name": "stdout",
     "output_type": "stream",
     "text": [
      "[[1, 3], [4, 6], [7, 9]]\n"
     ]
    }
   ],
   "source": [
    "#chỉ lấy giá trị thứ 0 và thứ 2 gắn vào list mới\n",
    "lst_new = []\n",
    "\n",
    "for i in lst2D:\n",
    "    lst_new.append(i[::2])\n",
    "\n",
    "print(lst_new)"
   ]
  }
 ],
 "metadata": {
  "kernelspec": {
   "display_name": "Python 3",
   "language": "python",
   "name": "python3"
  },
  "language_info": {
   "codemirror_mode": {
    "name": "ipython",
    "version": 3
   },
   "file_extension": ".py",
   "mimetype": "text/x-python",
   "name": "python",
   "nbconvert_exporter": "python",
   "pygments_lexer": "ipython3",
   "version": "3.11.9"
  }
 },
 "nbformat": 4,
 "nbformat_minor": 2
}
